{
  "nbformat": 4,
  "nbformat_minor": 0,
  "metadata": {
    "colab": {
      "name": "Week 11 Independent project: Regression Victoria Mbaka 2022",
      "provenance": [],
      "collapsed_sections": [
        "kLG2VTrnTvYL",
        "XecOwPNorl2W",
        "J4wfHZwQrs-t",
        "a9BPYqunry97",
        "7KMRBJ7zr9HD",
        "zSGyg6kWsBUl",
        "iUNbvIvnT7ep",
        "OI3P3YnHUEBk",
        "ckfufNrcUHeH",
        "6XC_g-zKxe-r",
        "FlBMxEDBUc9B",
        "rF2ABPsHUtbZ",
        "vTbdjSrhVIiT",
        "lQ2G4ZPDVOXE",
        "xrmHVMVsVS--",
        "HPQviDmNtta8",
        "qjFHK1CKty7o",
        "HSsicSdvt4Zs"
      ],
      "include_colab_link": true
    },
    "kernelspec": {
      "name": "python3",
      "display_name": "Python 3"
    }
  },
  "cells": [
    {
      "cell_type": "markdown",
      "metadata": {
        "id": "view-in-github",
        "colab_type": "text"
      },
      "source": [
        "<a href=\"https://colab.research.google.com/github/Victoriambaka/INDEPENDENT-PROJECT-WEEK-11/blob/main/Week_11_Independent_project_Regression_Victoria_Mbaka_2022.ipynb\" target=\"_parent\"><img src=\"https://colab.research.google.com/assets/colab-badge.svg\" alt=\"Open In Colab\"/></a>"
      ]
    },
    {
      "cell_type": "markdown",
      "metadata": {
        "id": "xMxtPsqcTsSH"
      },
      "source": [
        "# **INDEPENDENT PROJECT 11: PREDICTION WITH REGRESSION**:(1 - 3)\n",
        "\n",
        "---\n",
        "\n",
        "\n",
        "\n",
        "---\n",
        "\n"
      ]
    },
    {
      "cell_type": "markdown",
      "metadata": {
        "id": "kLG2VTrnTvYL"
      },
      "source": [
        "1. Defining the Question"
      ]
    },
    {
      "cell_type": "markdown",
      "metadata": {
        "id": "XecOwPNorl2W"
      },
      "source": [
        "### a) Specifying the Question"
      ]
    },
    {
      "cell_type": "markdown",
      "source": [
        "You have been recruited as a football analyst in a company - Mchezopesa Ltd and tasked to accomplish the task below.\n",
        "\n",
        "A prediction result of a game between team 1 and team 2, based on who's home and who's away, and on whether or not the game is friendly (include rank in your training).\n",
        "\n",
        "***Input***: Home team, Away team, Tournament type (World cup, Friendly, Other)\n",
        "\n",
        "***`Approach 1`***: Polynomial approach\n",
        "\n",
        "What to train given:\n",
        "\n",
        "*   Rank of home team\n",
        "*   Rank of away team\n",
        "*   Tournament scores.\n",
        "\n",
        "\n",
        "Model 1: Predict how many goals the home team scores.\n",
        "\n",
        "Model 2: Predict how many goals the away team scores."
      ],
      "metadata": {
        "id": "uJPksOJyiket"
      }
    },
    {
      "cell_type": "markdown",
      "metadata": {
        "id": "J4wfHZwQrs-t"
      },
      "source": [
        "### b) Defining the Metric for Success\n",
        "\n",
        "\n",
        "*   Being able to predict the goals for home team scores and the away team scores.\n",
        "\n"
      ]
    },
    {
      "cell_type": "markdown",
      "metadata": {
        "id": "a9BPYqunry97"
      },
      "source": [
        "### c) Understanding the context\n",
        "\n",
        "*   This is a problem that requires prediction(prediction problems are worked out using regression.)\n",
        "\n",
        "\n",
        "\n"
      ]
    },
    {
      "cell_type": "markdown",
      "metadata": {
        "id": "zSGyg6kWsBUl"
      },
      "source": [
        "### e) Data Relevance\n",
        "The data provided is upto date and relevant for the analysis to be done.\n",
        "the dataset can be found here: [Dataset](https://drive.google.com/open?id=1BYUqaEEnFtAe5lvzJh9lpVpR2MAvERUc)"
      ]
    },
    {
      "cell_type": "markdown",
      "metadata": {
        "id": "7KMRBJ7zr9HD"
      },
      "source": [
        "### d) Recording the Experimental Design\n",
        "\n",
        " The flow of this prediction analysis is as follows:\n",
        "\n",
        "1.   Define the question\n",
        "2.   Define the metric for success\n",
        "3.   Understansing the context\n",
        "4.   Documenting the experimental design taken and the appropriateness of the available data to answer the given question.\n",
        "\n",
        "Expected flow for the assessment:\n",
        "\n",
        "1.   Perform EDA\n",
        "2.   Perform any necessary feature engineering \n",
        "3.   Check of multicollinearity\n",
        "4.   Start building the model\n",
        "5.   Cross-validate the model\n",
        "6.   Compute RMSE\n",
        "7.   Create residual plots for your models, and assess their heteroscedasticity using Bartlett’s test\n",
        "8.   Perform appropriate regressions on the data including your justification\n",
        "9.   Challenge your solution by providing insights on how you can make improvements. \n",
        "\n"
      ]
    },
    {
      "cell_type": "markdown",
      "metadata": {
        "id": "iUNbvIvnT7ep"
      },
      "source": [
        "## 2. Reading the Data"
      ]
    },
    {
      "cell_type": "code",
      "source": [
        "import pandas as pd\n",
        "import numpy as np\n",
        "import seaborn as sns\n",
        "import matplotlib\n",
        "from matplotlib import pyplot as plt\n",
        "%matplotlib inline"
      ],
      "metadata": {
        "id": "EenbA7qY61ps"
      },
      "execution_count": 5,
      "outputs": []
    },
    {
      "cell_type": "code",
      "metadata": {
        "id": "XJn2KjW-WMlG"
      },
      "source": [
        "# Loading the Datasets\n",
        "url = '/content/fifa_ranking.csv'\n",
        "ranking = pd.read_csv(url)\n",
        "url1 = '/content/results.csv'\n",
        "results = pd.read_csv(url1)"
      ],
      "execution_count": 6,
      "outputs": []
    },
    {
      "cell_type": "markdown",
      "metadata": {
        "id": "OI3P3YnHUEBk"
      },
      "source": [
        "## 3. Checking the Data"
      ]
    },
    {
      "cell_type": "code",
      "metadata": {
        "id": "YjSVNwgptHxY",
        "colab": {
          "base_uri": "https://localhost:8080/"
        },
        "outputId": "0257d631-5d59-4c34-eeb3-61558149e35e"
      },
      "source": [
        "# Determining the no. of records in our dataset\n",
        "#\n",
        "print('ranking = ',ranking.shape)\n",
        "print('results = ',results.shape)"
      ],
      "execution_count": 7,
      "outputs": [
        {
          "output_type": "stream",
          "name": "stdout",
          "text": [
            "ranking =  (57793, 16)\n",
            "results =  (40839, 9)\n"
          ]
        }
      ]
    },
    {
      "cell_type": "code",
      "metadata": {
        "id": "xHhTw5eKWr0n",
        "colab": {
          "base_uri": "https://localhost:8080/"
        },
        "outputId": "1e384a6e-f64e-42d4-f677-e325583845a9"
      },
      "source": [
        "# Previewing the top of our datasets\n",
        "print('results')\n",
        "print('*'*100)\n",
        "print(results.head())\n",
        "print('*'*100)\n",
        "print('ranking')\n",
        "print('*'*100)\n",
        "print(ranking.head())"
      ],
      "execution_count": 8,
      "outputs": [
        {
          "output_type": "stream",
          "name": "stdout",
          "text": [
            "results\n",
            "****************************************************************************************************\n",
            "         date home_team away_team  home_score  away_score tournament     city  \\\n",
            "0  1872-11-30  Scotland   England           0           0   Friendly  Glasgow   \n",
            "1  1873-03-08   England  Scotland           4           2   Friendly   London   \n",
            "2  1874-03-07  Scotland   England           2           1   Friendly  Glasgow   \n",
            "3  1875-03-06   England  Scotland           2           2   Friendly   London   \n",
            "4  1876-03-04  Scotland   England           3           0   Friendly  Glasgow   \n",
            "\n",
            "    country  neutral  \n",
            "0  Scotland    False  \n",
            "1   England    False  \n",
            "2  Scotland    False  \n",
            "3   England    False  \n",
            "4  Scotland    False  \n",
            "****************************************************************************************************\n",
            "ranking\n",
            "****************************************************************************************************\n",
            "   rank country_full country_abrv  total_points  previous_points  rank_change  \\\n",
            "0     1      Germany          GER           0.0               57            0   \n",
            "1     2        Italy          ITA           0.0               57            0   \n",
            "2     3  Switzerland          SUI           0.0               50            9   \n",
            "3     4       Sweden          SWE           0.0               55            0   \n",
            "4     5    Argentina          ARG           0.0               51            5   \n",
            "\n",
            "   cur_year_avg  cur_year_avg_weighted  last_year_avg  last_year_avg_weighted  \\\n",
            "0           0.0                    0.0            0.0                     0.0   \n",
            "1           0.0                    0.0            0.0                     0.0   \n",
            "2           0.0                    0.0            0.0                     0.0   \n",
            "3           0.0                    0.0            0.0                     0.0   \n",
            "4           0.0                    0.0            0.0                     0.0   \n",
            "\n",
            "   two_year_ago_avg  two_year_ago_weighted  three_year_ago_avg  \\\n",
            "0               0.0                    0.0                 0.0   \n",
            "1               0.0                    0.0                 0.0   \n",
            "2               0.0                    0.0                 0.0   \n",
            "3               0.0                    0.0                 0.0   \n",
            "4               0.0                    0.0                 0.0   \n",
            "\n",
            "   three_year_ago_weighted confederation   rank_date  \n",
            "0                      0.0          UEFA  1993-08-08  \n",
            "1                      0.0          UEFA  1993-08-08  \n",
            "2                      0.0          UEFA  1993-08-08  \n",
            "3                      0.0          UEFA  1993-08-08  \n",
            "4                      0.0      CONMEBOL  1993-08-08  \n"
          ]
        }
      ]
    },
    {
      "cell_type": "code",
      "metadata": {
        "id": "e9AzGcZFrIIr",
        "colab": {
          "base_uri": "https://localhost:8080/"
        },
        "outputId": "0c753465-13b7-4ae6-ce29-72cd0b11bcfc"
      },
      "source": [
        "# Previewing the bottom of our dataset\n",
        "# \n",
        "print('results')\n",
        "print('*'*100)\n",
        "print(results.tail())\n",
        "print('*'*100)\n",
        "print('ranking')\n",
        "print('*'*100)\n",
        "print(ranking.tail())"
      ],
      "execution_count": 9,
      "outputs": [
        {
          "output_type": "stream",
          "name": "stdout",
          "text": [
            "results\n",
            "****************************************************************************************************\n",
            "             date         home_team        away_team  home_score  away_score  \\\n",
            "40834  2019-07-18    American Samoa           Tahiti           8           1   \n",
            "40835  2019-07-18              Fiji  Solomon Islands           4           4   \n",
            "40836  2019-07-19           Senegal          Algeria           0           1   \n",
            "40837  2019-07-19        Tajikistan      North Korea           0           1   \n",
            "40838  2019-07-20  Papua New Guinea             Fiji           1           1   \n",
            "\n",
            "                   tournament       city country  neutral  \n",
            "40834           Pacific Games       Apia   Samoa     True  \n",
            "40835           Pacific Games       Apia   Samoa     True  \n",
            "40836  African Cup of Nations      Cairo   Egypt     True  \n",
            "40837    Intercontinental Cup  Ahmedabad   India     True  \n",
            "40838           Pacific Games       Apia   Samoa     True  \n",
            "****************************************************************************************************\n",
            "ranking\n",
            "****************************************************************************************************\n",
            "       rank country_full country_abrv  total_points  previous_points  \\\n",
            "57788   206     Anguilla          AIA           0.0                0   \n",
            "57789   206      Bahamas          BAH           0.0                0   \n",
            "57790   206      Eritrea          ERI           0.0                0   \n",
            "57791   206      Somalia          SOM           0.0                0   \n",
            "57792   206        Tonga          TGA           0.0                0   \n",
            "\n",
            "       rank_change  cur_year_avg  cur_year_avg_weighted  last_year_avg  \\\n",
            "57788            1           0.0                    0.0            0.0   \n",
            "57789            1           0.0                    0.0            0.0   \n",
            "57790            1           0.0                    0.0            0.0   \n",
            "57791            1           0.0                    0.0            0.0   \n",
            "57792            1           0.0                    0.0            0.0   \n",
            "\n",
            "       last_year_avg_weighted  two_year_ago_avg  two_year_ago_weighted  \\\n",
            "57788                     0.0               0.0                    0.0   \n",
            "57789                     0.0               0.0                    0.0   \n",
            "57790                     0.0               0.0                    0.0   \n",
            "57791                     0.0               0.0                    0.0   \n",
            "57792                     0.0               0.0                    0.0   \n",
            "\n",
            "       three_year_ago_avg  three_year_ago_weighted confederation   rank_date  \n",
            "57788                 0.0                      0.0      CONCACAF  2018-06-07  \n",
            "57789                 0.0                      0.0      CONCACAF  2018-06-07  \n",
            "57790                 0.0                      0.0           CAF  2018-06-07  \n",
            "57791                 0.0                      0.0           CAF  2018-06-07  \n",
            "57792                 0.0                      0.0           OFC  2018-06-07  \n"
          ]
        }
      ]
    },
    {
      "cell_type": "code",
      "metadata": {
        "id": "n8-dW4sQWzbc",
        "colab": {
          "base_uri": "https://localhost:8080/"
        },
        "outputId": "a71c77ec-5fc4-47c3-a6b5-49829f746cf0"
      },
      "source": [
        "# Checking whether each column has an appropriate datatype\n",
        "#\n",
        "print('ranking :',ranking.dtypes)\n",
        "print('*'*100)\n",
        "print('results :',results.dtypes)"
      ],
      "execution_count": 10,
      "outputs": [
        {
          "output_type": "stream",
          "name": "stdout",
          "text": [
            "ranking : rank                         int64\n",
            "country_full                object\n",
            "country_abrv                object\n",
            "total_points               float64\n",
            "previous_points              int64\n",
            "rank_change                  int64\n",
            "cur_year_avg               float64\n",
            "cur_year_avg_weighted      float64\n",
            "last_year_avg              float64\n",
            "last_year_avg_weighted     float64\n",
            "two_year_ago_avg           float64\n",
            "two_year_ago_weighted      float64\n",
            "three_year_ago_avg         float64\n",
            "three_year_ago_weighted    float64\n",
            "confederation               object\n",
            "rank_date                   object\n",
            "dtype: object\n",
            "****************************************************************************************************\n",
            "results : date          object\n",
            "home_team     object\n",
            "away_team     object\n",
            "home_score     int64\n",
            "away_score     int64\n",
            "tournament    object\n",
            "city          object\n",
            "country       object\n",
            "neutral         bool\n",
            "dtype: object\n"
          ]
        }
      ]
    },
    {
      "cell_type": "markdown",
      "metadata": {
        "id": "FlBMxEDBUc9B"
      },
      "source": [
        "## 5. Tidying the Dataset"
      ]
    },
    {
      "cell_type": "code",
      "metadata": {
        "id": "5o_bQcT5W3Wz",
        "colab": {
          "base_uri": "https://localhost:8080/",
          "height": 268
        },
        "outputId": "00a47ef4-c2bd-424e-a56e-ce2b5ec851b8"
      },
      "source": [
        "# Checking for Outliers\n",
        "#\n",
        "ranking.boxplot();"
      ],
      "execution_count": 11,
      "outputs": [
        {
          "output_type": "display_data",
          "data": {
            "text/plain": [
              "<Figure size 432x288 with 1 Axes>"
            ],
            "image/png": "[encoded data removed]"
          },
          "metadata": {
            "needs_background": "light"
          }
        }
      ]
    },
    {
      "cell_type": "code",
      "source": [
        "results.boxplot();"
      ],
      "metadata": {
        "colab": {
          "base_uri": "https://localhost:8080/",
          "height": 266
        },
        "id": "t__9Q-fN0Ik4",
        "outputId": "ccc09e22-8b98-4491-add4-88b74de75683"
      },
      "execution_count": 12,
      "outputs": [
        {
          "output_type": "display_data",
          "data": {
            "text/plain": [
              "<Figure size 432x288 with 1 Axes>"
            ],
            "image/png": "[encoded data removed]"
          },
          "metadata": {
            "needs_background": "light"
          }
        }
      ]
    },
    {
      "cell_type": "code",
      "source": [
        "# There seems to be a number of outliers, but for this analysis, they will not be dropped since they are valid observations\n",
        "# and their removal might distort the correct prediction."
      ],
      "metadata": {
        "id": "Q9zxNAXR0cwL"
      },
      "execution_count": 13,
      "outputs": []
    },
    {
      "cell_type": "code",
      "metadata": {
        "id": "PWlukLKUvFQN",
        "colab": {
          "base_uri": "https://localhost:8080/"
        },
        "outputId": "4c24f631-5c83-47ec-ddef-711b98aa51db"
      },
      "source": [
        "# Checking for Anomalies\n",
        "#\n",
        "print('ranking:',ranking.duplicated().sum())\n",
        "print('results:',results.duplicated().sum())"
      ],
      "execution_count": 14,
      "outputs": [
        {
          "output_type": "stream",
          "name": "stdout",
          "text": [
            "ranking: 37\n",
            "results: 0\n"
          ]
        }
      ]
    },
    {
      "cell_type": "code",
      "source": [
        "ranking = ranking.drop_duplicates()\n"
      ],
      "metadata": {
        "id": "mtDT34favSRS"
      },
      "execution_count": 15,
      "outputs": []
    },
    {
      "cell_type": "code",
      "metadata": {
        "id": "PvCYb6dgW4yh",
        "colab": {
          "base_uri": "https://localhost:8080/"
        },
        "outputId": "412ccd2c-4e22-4d46-fa6a-e2d39bf04ddd"
      },
      "source": [
        "# Identifying the Missing Data\n",
        "#\n",
        "print('ranking:',ranking.isnull().sum())\n",
        "print('*'*100)\n",
        "print('results:',results.isnull().sum())"
      ],
      "execution_count": 16,
      "outputs": [
        {
          "output_type": "stream",
          "name": "stdout",
          "text": [
            "ranking: rank                       0\n",
            "country_full               0\n",
            "country_abrv               0\n",
            "total_points               0\n",
            "previous_points            0\n",
            "rank_change                0\n",
            "cur_year_avg               0\n",
            "cur_year_avg_weighted      0\n",
            "last_year_avg              0\n",
            "last_year_avg_weighted     0\n",
            "two_year_ago_avg           0\n",
            "two_year_ago_weighted      0\n",
            "three_year_ago_avg         0\n",
            "three_year_ago_weighted    0\n",
            "confederation              0\n",
            "rank_date                  0\n",
            "dtype: int64\n",
            "****************************************************************************************************\n",
            "results: date          0\n",
            "home_team     0\n",
            "away_team     0\n",
            "home_score    0\n",
            "away_score    0\n",
            "tournament    0\n",
            "city          0\n",
            "country       0\n",
            "neutral       0\n",
            "dtype: int64\n"
          ]
        }
      ]
    },
    {
      "cell_type": "code",
      "metadata": {
        "id": "MpsDGKZHsf_W"
      },
      "source": [
        "# Dealing with the Missing Data\n",
        "# There is no missing data."
      ],
      "execution_count": 17,
      "outputs": []
    },
    {
      "cell_type": "code",
      "metadata": {
        "id": "D-4I__6Os4C5",
        "colab": {
          "base_uri": "https://localhost:8080/"
        },
        "outputId": "26da76c0-8556-4044-95e2-3ad81008ad53"
      },
      "source": [
        "# More data cleaning procedures\n",
        "# droppig unnecessary columns\n",
        "to_drop = ['country_abrv', 'rank_date']\n",
        "ranking.drop(to_drop, axis=1, inplace=True)"
      ],
      "execution_count": 18,
      "outputs": [
        {
          "output_type": "stream",
          "name": "stderr",
          "text": [
            "/usr/local/lib/python3.7/dist-packages/pandas/core/frame.py:4913: SettingWithCopyWarning: \n",
            "A value is trying to be set on a copy of a slice from a DataFrame\n",
            "\n",
            "See the caveats in the documentation: https://pandas.pydata.org/pandas-docs/stable/user_guide/indexing.html#returning-a-view-versus-a-copy\n",
            "  errors=errors,\n"
          ]
        }
      ]
    },
    {
      "cell_type": "code",
      "source": [
        "ranking.columns = ['rank', 'country', 'total_points', 'previous_points', 'rank_change', 'cur_year_avg', 'cur_year_avg_weighted', 'last_year_avg', 'last_year_avg_weighted', 'two_year_ago_avg', 'two_year_ago_weighted', 'three_year_ago_avg', 'three_year_ago_weighted', 'confederation']\n",
        "ranking.head()"
      ],
      "metadata": {
        "colab": {
          "base_uri": "https://localhost:8080/",
          "height": 270
        },
        "id": "3EsWNOeT8FBh",
        "outputId": "0f68e9ce-3ba6-4403-d85f-c758d86c334e"
      },
      "execution_count": 19,
      "outputs": [
        {
          "output_type": "execute_result",
          "data": {
            "text/plain": [
              "   rank      country  total_points  previous_points  rank_change  \\\n",
              "0     1      Germany           0.0               57            0   \n",
              "1     2        Italy           0.0               57            0   \n",
              "2     3  Switzerland           0.0               50            9   \n",
              "3     4       Sweden           0.0               55            0   \n",
              "4     5    Argentina           0.0               51            5   \n",
              "\n",
              "   cur_year_avg  cur_year_avg_weighted  last_year_avg  last_year_avg_weighted  \\\n",
              "0           0.0                    0.0            0.0                     0.0   \n",
              "1           0.0                    0.0            0.0                     0.0   \n",
              "2           0.0                    0.0            0.0                     0.0   \n",
              "3           0.0                    0.0            0.0                     0.0   \n",
              "4           0.0                    0.0            0.0                     0.0   \n",
              "\n",
              "   two_year_ago_avg  two_year_ago_weighted  three_year_ago_avg  \\\n",
              "0               0.0                    0.0                 0.0   \n",
              "1               0.0                    0.0                 0.0   \n",
              "2               0.0                    0.0                 0.0   \n",
              "3               0.0                    0.0                 0.0   \n",
              "4               0.0                    0.0                 0.0   \n",
              "\n",
              "   three_year_ago_weighted confederation  \n",
              "0                      0.0          UEFA  \n",
              "1                      0.0          UEFA  \n",
              "2                      0.0          UEFA  \n",
              "3                      0.0          UEFA  \n",
              "4                      0.0      CONMEBOL  "
            ],
            "text/html": [
              "\n",
              "  <div id=\"df-6f016dd5-0f03-4ab1-a8af-326f30768c24\">\n",
              "    <div class=\"colab-df-container\">\n",
              "      <div>\n",
              "<style scoped>\n",
              "    .dataframe tbody tr th:only-of-type {\n",
              "        vertical-align: middle;\n",
              "    }\n",
              "\n",
              "    .dataframe tbody tr th {\n",
              "        vertical-align: top;\n",
              "    }\n",
              "\n",
              "    .dataframe thead th {\n",
              "        text-align: right;\n",
              "    }\n",
              "</style>\n",
              "<table border=\"1\" class=\"dataframe\">\n",
              "  <thead>\n",
              "    <tr style=\"text-align: right;\">\n",
              "      <th></th>\n",
              "      <th>rank</th>\n",
              "      <th>country</th>\n",
              "      <th>total_points</th>\n",
              "      <th>previous_points</th>\n",
              "      <th>rank_change</th>\n",
              "      <th>cur_year_avg</th>\n",
              "      <th>cur_year_avg_weighted</th>\n",
              "      <th>last_year_avg</th>\n",
              "      <th>last_year_avg_weighted</th>\n",
              "      <th>two_year_ago_avg</th>\n",
              "      <th>two_year_ago_weighted</th>\n",
              "      <th>three_year_ago_avg</th>\n",
              "      <th>three_year_ago_weighted</th>\n",
              "      <th>confederation</th>\n",
              "    </tr>\n",
              "  </thead>\n",
              "  <tbody>\n",
              "    <tr>\n",
              "      <th>0</th>\n",
              "      <td>1</td>\n",
              "      <td>Germany</td>\n",
              "      <td>0.0</td>\n",
              "      <td>57</td>\n",
              "      <td>0</td>\n",
              "      <td>0.0</td>\n",
              "      <td>0.0</td>\n",
              "      <td>0.0</td>\n",
              "      <td>0.0</td>\n",
              "      <td>0.0</td>\n",
              "      <td>0.0</td>\n",
              "      <td>0.0</td>\n",
              "      <td>0.0</td>\n",
              "      <td>UEFA</td>\n",
              "    </tr>\n",
              "    <tr>\n",
              "      <th>1</th>\n",
              "      <td>2</td>\n",
              "      <td>Italy</td>\n",
              "      <td>0.0</td>\n",
              "      <td>57</td>\n",
              "      <td>0</td>\n",
              "      <td>0.0</td>\n",
              "      <td>0.0</td>\n",
              "      <td>0.0</td>\n",
              "      <td>0.0</td>\n",
              "      <td>0.0</td>\n",
              "      <td>0.0</td>\n",
              "      <td>0.0</td>\n",
              "      <td>0.0</td>\n",
              "      <td>UEFA</td>\n",
              "    </tr>\n",
              "    <tr>\n",
              "      <th>2</th>\n",
              "      <td>3</td>\n",
              "      <td>Switzerland</td>\n",
              "      <td>0.0</td>\n",
              "      <td>50</td>\n",
              "      <td>9</td>\n",
              "      <td>0.0</td>\n",
              "      <td>0.0</td>\n",
              "      <td>0.0</td>\n",
              "      <td>0.0</td>\n",
              "      <td>0.0</td>\n",
              "      <td>0.0</td>\n",
              "      <td>0.0</td>\n",
              "      <td>0.0</td>\n",
              "      <td>UEFA</td>\n",
              "    </tr>\n",
              "    <tr>\n",
              "      <th>3</th>\n",
              "      <td>4</td>\n",
              "      <td>Sweden</td>\n",
              "      <td>0.0</td>\n",
              "      <td>55</td>\n",
              "      <td>0</td>\n",
              "      <td>0.0</td>\n",
              "      <td>0.0</td>\n",
              "      <td>0.0</td>\n",
              "      <td>0.0</td>\n",
              "      <td>0.0</td>\n",
              "      <td>0.0</td>\n",
              "      <td>0.0</td>\n",
              "      <td>0.0</td>\n",
              "      <td>UEFA</td>\n",
              "    </tr>\n",
              "    <tr>\n",
              "      <th>4</th>\n",
              "      <td>5</td>\n",
              "      <td>Argentina</td>\n",
              "      <td>0.0</td>\n",
              "      <td>51</td>\n",
              "      <td>5</td>\n",
              "      <td>0.0</td>\n",
              "      <td>0.0</td>\n",
              "      <td>0.0</td>\n",
              "      <td>0.0</td>\n",
              "      <td>0.0</td>\n",
              "      <td>0.0</td>\n",
              "      <td>0.0</td>\n",
              "      <td>0.0</td>\n",
              "      <td>CONMEBOL</td>\n",
              "    </tr>\n",
              "  </tbody>\n",
              "</table>\n",
              "</div>\n",
              "      <button class=\"colab-df-convert\" onclick=\"convertToInteractive('df-6f016dd5-0f03-4ab1-a8af-326f30768c24')\"\n",
              "              title=\"Convert this dataframe to an interactive table.\"\n",
              "              style=\"display:none;\">\n",
              "        \n",
              "  <svg xmlns=\"http://www.w3.org/2000/svg\" height=\"24px\"viewBox=\"0 0 24 24\"\n",
              "       width=\"24px\">\n",
              "    <path d=\"M0 0h24v24H0V0z\" fill=\"none\"/>\n",
              "    <path d=\"M18.56 5.44l.94 2.06.94-2.06 2.06-.94-2.06-.94-.94-2.06-.94 2.06-2.06.94zm-11 1L8.5 8.5l.94-2.06 2.06-.94-2.06-.94L8.5 2.5l-.94 2.06-2.06.94zm10 10l.94 2.06.94-2.06 2.06-.94-2.06-.94-.94-2.06-.94 2.06-2.06.94z\"/><path d=\"M17.41 7.96l-1.37-1.37c-.4-.4-.92-.59-1.43-.59-.52 0-1.04.2-1.43.59L10.3 9.45l-7.72 7.72c-.78.78-.78 2.05 0 2.83L4 21.41c.39.39.9.59 1.41.59.51 0 1.02-.2 1.41-.59l7.78-7.78 2.81-2.81c.8-.78.8-2.07 0-2.86zM5.41 20L4 18.59l7.72-7.72 1.47 1.35L5.41 20z\"/>\n",
              "  </svg>\n",
              "      </button>\n",
              "      \n",
              "  <style>\n",
              "    .colab-df-container {\n",
              "      display:flex;\n",
              "      flex-wrap:wrap;\n",
              "      gap: 12px;\n",
              "    }\n",
              "\n",
              "    .colab-df-convert {\n",
              "      background-color: #E8F0FE;\n",
              "      border: none;\n",
              "      border-radius: 50%;\n",
              "      cursor: pointer;\n",
              "      display: none;\n",
              "      fill: #1967D2;\n",
              "      height: 32px;\n",
              "      padding: 0 0 0 0;\n",
              "      width: 32px;\n",
              "    }\n",
              "\n",
              "    .colab-df-convert:hover {\n",
              "      background-color: #E2EBFA;\n",
              "      box-shadow: 0px 1px 2px rgba(60, 64, 67, 0.3), 0px 1px 3px 1px rgba(60, 64, 67, 0.15);\n",
              "      fill: #174EA6;\n",
              "    }\n",
              "\n",
              "    [theme=dark] .colab-df-convert {\n",
              "      background-color: #3B4455;\n",
              "      fill: #D2E3FC;\n",
              "    }\n",
              "\n",
              "    [theme=dark] .colab-df-convert:hover {\n",
              "      background-color: #434B5C;\n",
              "      box-shadow: 0px 1px 3px 1px rgba(0, 0, 0, 0.15);\n",
              "      filter: drop-shadow(0px 1px 2px rgba(0, 0, 0, 0.3));\n",
              "      fill: #FFFFFF;\n",
              "    }\n",
              "  </style>\n",
              "\n",
              "      <script>\n",
              "        const buttonEl =\n",
              "          document.querySelector('#df-6f016dd5-0f03-4ab1-a8af-326f30768c24 button.colab-df-convert');\n",
              "        buttonEl.style.display =\n",
              "          google.colab.kernel.accessAllowed ? 'block' : 'none';\n",
              "\n",
              "        async function convertToInteractive(key) {\n",
              "          const element = document.querySelector('#df-6f016dd5-0f03-4ab1-a8af-326f30768c24');\n",
              "          const dataTable =\n",
              "            await google.colab.kernel.invokeFunction('convertToInteractive',\n",
              "                                                     [key], {});\n",
              "          if (!dataTable) return;\n",
              "\n",
              "          const docLinkHtml = 'Like what you see? Visit the ' +\n",
              "            '<a target=\"_blank\" href=https://colab.research.google.com/notebooks/data_table.ipynb>data table notebook</a>'\n",
              "            + ' to learn more about interactive tables.';\n",
              "          element.innerHTML = '';\n",
              "          dataTable['output_type'] = 'display_data';\n",
              "          await google.colab.output.renderOutput(dataTable, element);\n",
              "          const docLink = document.createElement('div');\n",
              "          docLink.innerHTML = docLinkHtml;\n",
              "          element.appendChild(docLink);\n",
              "        }\n",
              "      </script>\n",
              "    </div>\n",
              "  </div>\n",
              "  "
            ]
          },
          "metadata": {},
          "execution_count": 19
        }
      ]
    },
    {
      "cell_type": "code",
      "source": [
        "# merging datasets\n",
        "data = ranking.merge(results, how = 'left',on = 'country')\n",
        "data.head()"
      ],
      "metadata": {
        "colab": {
          "base_uri": "https://localhost:8080/",
          "height": 386
        },
        "id": "aZ-ngIhg43O3",
        "outputId": "19a62a62-4506-4ea0-8e40-a7f1a9a2e269"
      },
      "execution_count": 20,
      "outputs": [
        {
          "output_type": "execute_result",
          "data": {
            "text/plain": [
              "   rank  country  total_points  previous_points  rank_change  cur_year_avg  \\\n",
              "0     1  Germany           0.0               57            0           0.0   \n",
              "1     1  Germany           0.0               57            0           0.0   \n",
              "2     1  Germany           0.0               57            0           0.0   \n",
              "3     1  Germany           0.0               57            0           0.0   \n",
              "4     1  Germany           0.0               57            0           0.0   \n",
              "\n",
              "   cur_year_avg_weighted  last_year_avg  last_year_avg_weighted  \\\n",
              "0                    0.0            0.0                     0.0   \n",
              "1                    0.0            0.0                     0.0   \n",
              "2                    0.0            0.0                     0.0   \n",
              "3                    0.0            0.0                     0.0   \n",
              "4                    0.0            0.0                     0.0   \n",
              "\n",
              "   two_year_ago_avg  ...  three_year_ago_weighted  confederation        date  \\\n",
              "0               0.0  ...                      0.0           UEFA  1909-04-04   \n",
              "1               0.0  ...                      0.0           UEFA  1910-05-16   \n",
              "2               0.0  ...                      0.0           UEFA  1910-10-16   \n",
              "3               0.0  ...                      0.0           UEFA  1911-03-26   \n",
              "4               0.0  ...                      0.0           UEFA  1911-10-09   \n",
              "\n",
              "  home_team    away_team home_score away_score  tournament       city neutral  \n",
              "0   Germany  Switzerland        1.0        0.0    Friendly  Karlsruhe   False  \n",
              "1   Germany      Belgium        0.0        3.0    Friendly   Duisburg   False  \n",
              "2   Germany  Netherlands        1.0        2.0    Friendly      Kleve   False  \n",
              "3   Germany  Switzerland        6.0        2.0    Friendly  Stuttgart   False  \n",
              "4   Germany      Austria        1.0        2.0    Friendly    Dresden   False  \n",
              "\n",
              "[5 rows x 22 columns]"
            ],
            "text/html": [
              "\n",
              "  <div id=\"df-af049bcb-c320-4fed-9e8f-0cdce97eab74\">\n",
              "    <div class=\"colab-df-container\">\n",
              "      <div>\n",
              "<style scoped>\n",
              "    .dataframe tbody tr th:only-of-type {\n",
              "        vertical-align: middle;\n",
              "    }\n",
              "\n",
              "    .dataframe tbody tr th {\n",
              "        vertical-align: top;\n",
              "    }\n",
              "\n",
              "    .dataframe thead th {\n",
              "        text-align: right;\n",
              "    }\n",
              "</style>\n",
              "<table border=\"1\" class=\"dataframe\">\n",
              "  <thead>\n",
              "    <tr style=\"text-align: right;\">\n",
              "      <th></th>\n",
              "      <th>rank</th>\n",
              "      <th>country</th>\n",
              "      <th>total_points</th>\n",
              "      <th>previous_points</th>\n",
              "      <th>rank_change</th>\n",
              "      <th>cur_year_avg</th>\n",
              "      <th>cur_year_avg_weighted</th>\n",
              "      <th>last_year_avg</th>\n",
              "      <th>last_year_avg_weighted</th>\n",
              "      <th>two_year_ago_avg</th>\n",
              "      <th>...</th>\n",
              "      <th>three_year_ago_weighted</th>\n",
              "      <th>confederation</th>\n",
              "      <th>date</th>\n",
              "      <th>home_team</th>\n",
              "      <th>away_team</th>\n",
              "      <th>home_score</th>\n",
              "      <th>away_score</th>\n",
              "      <th>tournament</th>\n",
              "      <th>city</th>\n",
              "      <th>neutral</th>\n",
              "    </tr>\n",
              "  </thead>\n",
              "  <tbody>\n",
              "    <tr>\n",
              "      <th>0</th>\n",
              "      <td>1</td>\n",
              "      <td>Germany</td>\n",
              "      <td>0.0</td>\n",
              "      <td>57</td>\n",
              "      <td>0</td>\n",
              "      <td>0.0</td>\n",
              "      <td>0.0</td>\n",
              "      <td>0.0</td>\n",
              "      <td>0.0</td>\n",
              "      <td>0.0</td>\n",
              "      <td>...</td>\n",
              "      <td>0.0</td>\n",
              "      <td>UEFA</td>\n",
              "      <td>1909-04-04</td>\n",
              "      <td>Germany</td>\n",
              "      <td>Switzerland</td>\n",
              "      <td>1.0</td>\n",
              "      <td>0.0</td>\n",
              "      <td>Friendly</td>\n",
              "      <td>Karlsruhe</td>\n",
              "      <td>False</td>\n",
              "    </tr>\n",
              "    <tr>\n",
              "      <th>1</th>\n",
              "      <td>1</td>\n",
              "      <td>Germany</td>\n",
              "      <td>0.0</td>\n",
              "      <td>57</td>\n",
              "      <td>0</td>\n",
              "      <td>0.0</td>\n",
              "      <td>0.0</td>\n",
              "      <td>0.0</td>\n",
              "      <td>0.0</td>\n",
              "      <td>0.0</td>\n",
              "      <td>...</td>\n",
              "      <td>0.0</td>\n",
              "      <td>UEFA</td>\n",
              "      <td>1910-05-16</td>\n",
              "      <td>Germany</td>\n",
              "      <td>Belgium</td>\n",
              "      <td>0.0</td>\n",
              "      <td>3.0</td>\n",
              "      <td>Friendly</td>\n",
              "      <td>Duisburg</td>\n",
              "      <td>False</td>\n",
              "    </tr>\n",
              "    <tr>\n",
              "      <th>2</th>\n",
              "      <td>1</td>\n",
              "      <td>Germany</td>\n",
              "      <td>0.0</td>\n",
              "      <td>57</td>\n",
              "      <td>0</td>\n",
              "      <td>0.0</td>\n",
              "      <td>0.0</td>\n",
              "      <td>0.0</td>\n",
              "      <td>0.0</td>\n",
              "      <td>0.0</td>\n",
              "      <td>...</td>\n",
              "      <td>0.0</td>\n",
              "      <td>UEFA</td>\n",
              "      <td>1910-10-16</td>\n",
              "      <td>Germany</td>\n",
              "      <td>Netherlands</td>\n",
              "      <td>1.0</td>\n",
              "      <td>2.0</td>\n",
              "      <td>Friendly</td>\n",
              "      <td>Kleve</td>\n",
              "      <td>False</td>\n",
              "    </tr>\n",
              "    <tr>\n",
              "      <th>3</th>\n",
              "      <td>1</td>\n",
              "      <td>Germany</td>\n",
              "      <td>0.0</td>\n",
              "      <td>57</td>\n",
              "      <td>0</td>\n",
              "      <td>0.0</td>\n",
              "      <td>0.0</td>\n",
              "      <td>0.0</td>\n",
              "      <td>0.0</td>\n",
              "      <td>0.0</td>\n",
              "      <td>...</td>\n",
              "      <td>0.0</td>\n",
              "      <td>UEFA</td>\n",
              "      <td>1911-03-26</td>\n",
              "      <td>Germany</td>\n",
              "      <td>Switzerland</td>\n",
              "      <td>6.0</td>\n",
              "      <td>2.0</td>\n",
              "      <td>Friendly</td>\n",
              "      <td>Stuttgart</td>\n",
              "      <td>False</td>\n",
              "    </tr>\n",
              "    <tr>\n",
              "      <th>4</th>\n",
              "      <td>1</td>\n",
              "      <td>Germany</td>\n",
              "      <td>0.0</td>\n",
              "      <td>57</td>\n",
              "      <td>0</td>\n",
              "      <td>0.0</td>\n",
              "      <td>0.0</td>\n",
              "      <td>0.0</td>\n",
              "      <td>0.0</td>\n",
              "      <td>0.0</td>\n",
              "      <td>...</td>\n",
              "      <td>0.0</td>\n",
              "      <td>UEFA</td>\n",
              "      <td>1911-10-09</td>\n",
              "      <td>Germany</td>\n",
              "      <td>Austria</td>\n",
              "      <td>1.0</td>\n",
              "      <td>2.0</td>\n",
              "      <td>Friendly</td>\n",
              "      <td>Dresden</td>\n",
              "      <td>False</td>\n",
              "    </tr>\n",
              "  </tbody>\n",
              "</table>\n",
              "<p>5 rows × 22 columns</p>\n",
              "</div>\n",
              "      <button class=\"colab-df-convert\" onclick=\"convertToInteractive('df-af049bcb-c320-4fed-9e8f-0cdce97eab74')\"\n",
              "              title=\"Convert this dataframe to an interactive table.\"\n",
              "              style=\"display:none;\">\n",
              "        \n",
              "  <svg xmlns=\"http://www.w3.org/2000/svg\" height=\"24px\"viewBox=\"0 0 24 24\"\n",
              "       width=\"24px\">\n",
              "    <path d=\"M0 0h24v24H0V0z\" fill=\"none\"/>\n",
              "    <path d=\"M18.56 5.44l.94 2.06.94-2.06 2.06-.94-2.06-.94-.94-2.06-.94 2.06-2.06.94zm-11 1L8.5 8.5l.94-2.06 2.06-.94-2.06-.94L8.5 2.5l-.94 2.06-2.06.94zm10 10l.94 2.06.94-2.06 2.06-.94-2.06-.94-.94-2.06-.94 2.06-2.06.94z\"/><path d=\"M17.41 7.96l-1.37-1.37c-.4-.4-.92-.59-1.43-.59-.52 0-1.04.2-1.43.59L10.3 9.45l-7.72 7.72c-.78.78-.78 2.05 0 2.83L4 21.41c.39.39.9.59 1.41.59.51 0 1.02-.2 1.41-.59l7.78-7.78 2.81-2.81c.8-.78.8-2.07 0-2.86zM5.41 20L4 18.59l7.72-7.72 1.47 1.35L5.41 20z\"/>\n",
              "  </svg>\n",
              "      </button>\n",
              "      \n",
              "  <style>\n",
              "    .colab-df-container {\n",
              "      display:flex;\n",
              "      flex-wrap:wrap;\n",
              "      gap: 12px;\n",
              "    }\n",
              "\n",
              "    .colab-df-convert {\n",
              "      background-color: #E8F0FE;\n",
              "      border: none;\n",
              "      border-radius: 50%;\n",
              "      cursor: pointer;\n",
              "      display: none;\n",
              "      fill: #1967D2;\n",
              "      height: 32px;\n",
              "      padding: 0 0 0 0;\n",
              "      width: 32px;\n",
              "    }\n",
              "\n",
              "    .colab-df-convert:hover {\n",
              "      background-color: #E2EBFA;\n",
              "      box-shadow: 0px 1px 2px rgba(60, 64, 67, 0.3), 0px 1px 3px 1px rgba(60, 64, 67, 0.15);\n",
              "      fill: #174EA6;\n",
              "    }\n",
              "\n",
              "    [theme=dark] .colab-df-convert {\n",
              "      background-color: #3B4455;\n",
              "      fill: #D2E3FC;\n",
              "    }\n",
              "\n",
              "    [theme=dark] .colab-df-convert:hover {\n",
              "      background-color: #434B5C;\n",
              "      box-shadow: 0px 1px 3px 1px rgba(0, 0, 0, 0.15);\n",
              "      filter: drop-shadow(0px 1px 2px rgba(0, 0, 0, 0.3));\n",
              "      fill: #FFFFFF;\n",
              "    }\n",
              "  </style>\n",
              "\n",
              "      <script>\n",
              "        const buttonEl =\n",
              "          document.querySelector('#df-af049bcb-c320-4fed-9e8f-0cdce97eab74 button.colab-df-convert');\n",
              "        buttonEl.style.display =\n",
              "          google.colab.kernel.accessAllowed ? 'block' : 'none';\n",
              "\n",
              "        async function convertToInteractive(key) {\n",
              "          const element = document.querySelector('#df-af049bcb-c320-4fed-9e8f-0cdce97eab74');\n",
              "          const dataTable =\n",
              "            await google.colab.kernel.invokeFunction('convertToInteractive',\n",
              "                                                     [key], {});\n",
              "          if (!dataTable) return;\n",
              "\n",
              "          const docLinkHtml = 'Like what you see? Visit the ' +\n",
              "            '<a target=\"_blank\" href=https://colab.research.google.com/notebooks/data_table.ipynb>data table notebook</a>'\n",
              "            + ' to learn more about interactive tables.';\n",
              "          element.innerHTML = '';\n",
              "          dataTable['output_type'] = 'display_data';\n",
              "          await google.colab.output.renderOutput(dataTable, element);\n",
              "          const docLink = document.createElement('div');\n",
              "          docLink.innerHTML = docLinkHtml;\n",
              "          element.appendChild(docLink);\n",
              "        }\n",
              "      </script>\n",
              "    </div>\n",
              "  </div>\n",
              "  "
            ]
          },
          "metadata": {},
          "execution_count": 20
        }
      ]
    },
    {
      "cell_type": "code",
      "source": [
        "data = data.drop(columns=['date', 'city', 'neutral'])\n"
      ],
      "metadata": {
        "id": "5hBYMj7iSlpd"
      },
      "execution_count": 21,
      "outputs": []
    },
    {
      "cell_type": "code",
      "source": [
        "data.isnull().sum()"
      ],
      "metadata": {
        "colab": {
          "base_uri": "https://localhost:8080/"
        },
        "id": "AI6OgmWV5Pw6",
        "outputId": "4d95bb90-fe8d-4b81-a961-0649c006698d"
      },
      "execution_count": 22,
      "outputs": [
        {
          "output_type": "execute_result",
          "data": {
            "text/plain": [
              "rank                          0\n",
              "country                       0\n",
              "total_points                  0\n",
              "previous_points               0\n",
              "rank_change                   0\n",
              "cur_year_avg                  0\n",
              "cur_year_avg_weighted         0\n",
              "last_year_avg                 0\n",
              "last_year_avg_weighted        0\n",
              "two_year_ago_avg              0\n",
              "two_year_ago_weighted         0\n",
              "three_year_ago_avg            0\n",
              "three_year_ago_weighted       0\n",
              "confederation                 0\n",
              "home_team                  4774\n",
              "away_team                  4774\n",
              "home_score                 4774\n",
              "away_score                 4774\n",
              "tournament                 4774\n",
              "dtype: int64"
            ]
          },
          "metadata": {},
          "execution_count": 22
        }
      ]
    },
    {
      "cell_type": "code",
      "source": [
        "data = data.dropna()"
      ],
      "metadata": {
        "id": "2l0Lac4Zrsxw"
      },
      "execution_count": 25,
      "outputs": []
    },
    {
      "cell_type": "code",
      "source": [
        "data.duplicated().sum()"
      ],
      "metadata": {
        "colab": {
          "base_uri": "https://localhost:8080/"
        },
        "id": "Vmo5JTAo5Ptw",
        "outputId": "a2dbf5db-31a2-4acd-8e33-3177dcb1db63"
      },
      "execution_count": 26,
      "outputs": [
        {
          "output_type": "execute_result",
          "data": {
            "text/plain": [
              "1245720"
            ]
          },
          "metadata": {},
          "execution_count": 26
        }
      ]
    },
    {
      "cell_type": "code",
      "source": [
        "data = data.drop_duplicates()"
      ],
      "metadata": {
        "id": "97V_uwUTrjMa"
      },
      "execution_count": 27,
      "outputs": []
    },
    {
      "cell_type": "code",
      "source": [
        "data.shape"
      ],
      "metadata": {
        "colab": {
          "base_uri": "https://localhost:8080/"
        },
        "id": "JyipYILZAL7-",
        "outputId": "6c445303-06e0-4bf6-ee7b-ddcc660f4c6d"
      },
      "execution_count": 28,
      "outputs": [
        {
          "output_type": "execute_result",
          "data": {
            "text/plain": [
              "(8994981, 19)"
            ]
          },
          "metadata": {},
          "execution_count": 28
        }
      ]
    },
    {
      "cell_type": "markdown",
      "metadata": {
        "id": "rF2ABPsHUtbZ"
      },
      "source": [
        "## 6. Exploratory Analysis"
      ]
    },
    {
      "cell_type": "markdown",
      "source": [
        "### Univariate analysis"
      ],
      "metadata": {
        "id": "eer74sYpI2oK"
      }
    },
    {
      "cell_type": "code",
      "source": [
        "data.describe()"
      ],
      "metadata": {
        "colab": {
          "base_uri": "https://localhost:8080/",
          "height": 364
        },
        "id": "5HzPYvecB4nf",
        "outputId": "e93ee946-c307-4184-8847-21d87aab9b2d"
      },
      "execution_count": 29,
      "outputs": [
        {
          "output_type": "execute_result",
          "data": {
            "text/plain": [
              "               rank  total_points  previous_points   rank_change  \\\n",
              "count  8.994981e+06  8.994981e+06     8.994981e+06  8.994981e+06   \n",
              "mean   7.076319e+01  1.706212e+02     4.510516e+02 -2.533624e-02   \n",
              "std    5.015827e+01  3.305953e+02     3.450813e+02  5.507951e+00   \n",
              "min    1.000000e+00  0.000000e+00     0.000000e+00 -7.200000e+01   \n",
              "25%    2.700000e+01  0.000000e+00     1.430000e+02 -2.000000e+00   \n",
              "50%    6.400000e+01  0.000000e+00     4.360000e+02  0.000000e+00   \n",
              "75%    1.070000e+02  2.053500e+02     6.460000e+02  1.000000e+00   \n",
              "max    2.090000e+02  1.775030e+03     1.920000e+03  9.200000e+01   \n",
              "\n",
              "       cur_year_avg  cur_year_avg_weighted  last_year_avg  \\\n",
              "count  8.994981e+06           8.994981e+06   8.994981e+06   \n",
              "mean   8.603191e+01           8.603191e+01   8.514701e+01   \n",
              "std    1.735763e+02           1.735763e+02   1.735034e+02   \n",
              "min    0.000000e+00           0.000000e+00   0.000000e+00   \n",
              "25%    0.000000e+00           0.000000e+00   0.000000e+00   \n",
              "50%    0.000000e+00           0.000000e+00   0.000000e+00   \n",
              "75%    8.755000e+01           8.755000e+01   8.633000e+01   \n",
              "max    1.158660e+03           1.158660e+03   1.169570e+03   \n",
              "\n",
              "       last_year_avg_weighted  two_year_ago_avg  two_year_ago_weighted  \\\n",
              "count            8.994981e+06      8.994981e+06           8.994981e+06   \n",
              "mean             4.257357e+01      8.421733e+01           2.526523e+01   \n",
              "std              8.675173e+01      1.715211e+02           5.145635e+01   \n",
              "min              0.000000e+00      0.000000e+00           0.000000e+00   \n",
              "25%              0.000000e+00      0.000000e+00           0.000000e+00   \n",
              "50%              0.000000e+00      0.000000e+00           0.000000e+00   \n",
              "75%              4.316000e+01      8.282000e+01           2.485000e+01   \n",
              "max              5.847900e+02      1.159710e+03           3.479100e+02   \n",
              "\n",
              "       three_year_ago_avg  three_year_ago_weighted    home_score    away_score  \n",
              "count        8.994981e+06             8.994981e+06  8.994981e+06  8.994981e+06  \n",
              "mean         8.374251e+01             1.674852e+01  1.760275e+00  1.203626e+00  \n",
              "std          1.705023e+02             3.410046e+01  1.766857e+00  1.406205e+00  \n",
              "min          0.000000e+00             0.000000e+00  0.000000e+00  0.000000e+00  \n",
              "25%          0.000000e+00             0.000000e+00  1.000000e+00  0.000000e+00  \n",
              "50%          0.000000e+00             0.000000e+00  1.000000e+00  1.000000e+00  \n",
              "75%          8.314000e+01             1.663000e+01  2.000000e+00  2.000000e+00  \n",
              "max          1.200770e+03             2.401500e+02  3.100000e+01  2.100000e+01  "
            ],
            "text/html": [
              "\n",
              "  <div id=\"df-36ebe530-41f6-4e0e-a01a-e20448bf57b2\">\n",
              "    <div class=\"colab-df-container\">\n",
              "      <div>\n",
              "<style scoped>\n",
              "    .dataframe tbody tr th:only-of-type {\n",
              "        vertical-align: middle;\n",
              "    }\n",
              "\n",
              "    .dataframe tbody tr th {\n",
              "        vertical-align: top;\n",
              "    }\n",
              "\n",
              "    .dataframe thead th {\n",
              "        text-align: right;\n",
              "    }\n",
              "</style>\n",
              "<table border=\"1\" class=\"dataframe\">\n",
              "  <thead>\n",
              "    <tr style=\"text-align: right;\">\n",
              "      <th></th>\n",
              "      <th>rank</th>\n",
              "      <th>total_points</th>\n",
              "      <th>previous_points</th>\n",
              "      <th>rank_change</th>\n",
              "      <th>cur_year_avg</th>\n",
              "      <th>cur_year_avg_weighted</th>\n",
              "      <th>last_year_avg</th>\n",
              "      <th>last_year_avg_weighted</th>\n",
              "      <th>two_year_ago_avg</th>\n",
              "      <th>two_year_ago_weighted</th>\n",
              "      <th>three_year_ago_avg</th>\n",
              "      <th>three_year_ago_weighted</th>\n",
              "      <th>home_score</th>\n",
              "      <th>away_score</th>\n",
              "    </tr>\n",
              "  </thead>\n",
              "  <tbody>\n",
              "    <tr>\n",
              "      <th>count</th>\n",
              "      <td>8.994981e+06</td>\n",
              "      <td>8.994981e+06</td>\n",
              "      <td>8.994981e+06</td>\n",
              "      <td>8.994981e+06</td>\n",
              "      <td>8.994981e+06</td>\n",
              "      <td>8.994981e+06</td>\n",
              "      <td>8.994981e+06</td>\n",
              "      <td>8.994981e+06</td>\n",
              "      <td>8.994981e+06</td>\n",
              "      <td>8.994981e+06</td>\n",
              "      <td>8.994981e+06</td>\n",
              "      <td>8.994981e+06</td>\n",
              "      <td>8.994981e+06</td>\n",
              "      <td>8.994981e+06</td>\n",
              "    </tr>\n",
              "    <tr>\n",
              "      <th>mean</th>\n",
              "      <td>7.076319e+01</td>\n",
              "      <td>1.706212e+02</td>\n",
              "      <td>4.510516e+02</td>\n",
              "      <td>-2.533624e-02</td>\n",
              "      <td>8.603191e+01</td>\n",
              "      <td>8.603191e+01</td>\n",
              "      <td>8.514701e+01</td>\n",
              "      <td>4.257357e+01</td>\n",
              "      <td>8.421733e+01</td>\n",
              "      <td>2.526523e+01</td>\n",
              "      <td>8.374251e+01</td>\n",
              "      <td>1.674852e+01</td>\n",
              "      <td>1.760275e+00</td>\n",
              "      <td>1.203626e+00</td>\n",
              "    </tr>\n",
              "    <tr>\n",
              "      <th>std</th>\n",
              "      <td>5.015827e+01</td>\n",
              "      <td>3.305953e+02</td>\n",
              "      <td>3.450813e+02</td>\n",
              "      <td>5.507951e+00</td>\n",
              "      <td>1.735763e+02</td>\n",
              "      <td>1.735763e+02</td>\n",
              "      <td>1.735034e+02</td>\n",
              "      <td>8.675173e+01</td>\n",
              "      <td>1.715211e+02</td>\n",
              "      <td>5.145635e+01</td>\n",
              "      <td>1.705023e+02</td>\n",
              "      <td>3.410046e+01</td>\n",
              "      <td>1.766857e+00</td>\n",
              "      <td>1.406205e+00</td>\n",
              "    </tr>\n",
              "    <tr>\n",
              "      <th>min</th>\n",
              "      <td>1.000000e+00</td>\n",
              "      <td>0.000000e+00</td>\n",
              "      <td>0.000000e+00</td>\n",
              "      <td>-7.200000e+01</td>\n",
              "      <td>0.000000e+00</td>\n",
              "      <td>0.000000e+00</td>\n",
              "      <td>0.000000e+00</td>\n",
              "      <td>0.000000e+00</td>\n",
              "      <td>0.000000e+00</td>\n",
              "      <td>0.000000e+00</td>\n",
              "      <td>0.000000e+00</td>\n",
              "      <td>0.000000e+00</td>\n",
              "      <td>0.000000e+00</td>\n",
              "      <td>0.000000e+00</td>\n",
              "    </tr>\n",
              "    <tr>\n",
              "      <th>25%</th>\n",
              "      <td>2.700000e+01</td>\n",
              "      <td>0.000000e+00</td>\n",
              "      <td>1.430000e+02</td>\n",
              "      <td>-2.000000e+00</td>\n",
              "      <td>0.000000e+00</td>\n",
              "      <td>0.000000e+00</td>\n",
              "      <td>0.000000e+00</td>\n",
              "      <td>0.000000e+00</td>\n",
              "      <td>0.000000e+00</td>\n",
              "      <td>0.000000e+00</td>\n",
              "      <td>0.000000e+00</td>\n",
              "      <td>0.000000e+00</td>\n",
              "      <td>1.000000e+00</td>\n",
              "      <td>0.000000e+00</td>\n",
              "    </tr>\n",
              "    <tr>\n",
              "      <th>50%</th>\n",
              "      <td>6.400000e+01</td>\n",
              "      <td>0.000000e+00</td>\n",
              "      <td>4.360000e+02</td>\n",
              "      <td>0.000000e+00</td>\n",
              "      <td>0.000000e+00</td>\n",
              "      <td>0.000000e+00</td>\n",
              "      <td>0.000000e+00</td>\n",
              "      <td>0.000000e+00</td>\n",
              "      <td>0.000000e+00</td>\n",
              "      <td>0.000000e+00</td>\n",
              "      <td>0.000000e+00</td>\n",
              "      <td>0.000000e+00</td>\n",
              "      <td>1.000000e+00</td>\n",
              "      <td>1.000000e+00</td>\n",
              "    </tr>\n",
              "    <tr>\n",
              "      <th>75%</th>\n",
              "      <td>1.070000e+02</td>\n",
              "      <td>2.053500e+02</td>\n",
              "      <td>6.460000e+02</td>\n",
              "      <td>1.000000e+00</td>\n",
              "      <td>8.755000e+01</td>\n",
              "      <td>8.755000e+01</td>\n",
              "      <td>8.633000e+01</td>\n",
              "      <td>4.316000e+01</td>\n",
              "      <td>8.282000e+01</td>\n",
              "      <td>2.485000e+01</td>\n",
              "      <td>8.314000e+01</td>\n",
              "      <td>1.663000e+01</td>\n",
              "      <td>2.000000e+00</td>\n",
              "      <td>2.000000e+00</td>\n",
              "    </tr>\n",
              "    <tr>\n",
              "      <th>max</th>\n",
              "      <td>2.090000e+02</td>\n",
              "      <td>1.775030e+03</td>\n",
              "      <td>1.920000e+03</td>\n",
              "      <td>9.200000e+01</td>\n",
              "      <td>1.158660e+03</td>\n",
              "      <td>1.158660e+03</td>\n",
              "      <td>1.169570e+03</td>\n",
              "      <td>5.847900e+02</td>\n",
              "      <td>1.159710e+03</td>\n",
              "      <td>3.479100e+02</td>\n",
              "      <td>1.200770e+03</td>\n",
              "      <td>2.401500e+02</td>\n",
              "      <td>3.100000e+01</td>\n",
              "      <td>2.100000e+01</td>\n",
              "    </tr>\n",
              "  </tbody>\n",
              "</table>\n",
              "</div>\n",
              "      <button class=\"colab-df-convert\" onclick=\"convertToInteractive('df-36ebe530-41f6-4e0e-a01a-e20448bf57b2')\"\n",
              "              title=\"Convert this dataframe to an interactive table.\"\n",
              "              style=\"display:none;\">\n",
              "        \n",
              "  <svg xmlns=\"http://www.w3.org/2000/svg\" height=\"24px\"viewBox=\"0 0 24 24\"\n",
              "       width=\"24px\">\n",
              "    <path d=\"M0 0h24v24H0V0z\" fill=\"none\"/>\n",
              "    <path d=\"M18.56 5.44l.94 2.06.94-2.06 2.06-.94-2.06-.94-.94-2.06-.94 2.06-2.06.94zm-11 1L8.5 8.5l.94-2.06 2.06-.94-2.06-.94L8.5 2.5l-.94 2.06-2.06.94zm10 10l.94 2.06.94-2.06 2.06-.94-2.06-.94-.94-2.06-.94 2.06-2.06.94z\"/><path d=\"M17.41 7.96l-1.37-1.37c-.4-.4-.92-.59-1.43-.59-.52 0-1.04.2-1.43.59L10.3 9.45l-7.72 7.72c-.78.78-.78 2.05 0 2.83L4 21.41c.39.39.9.59 1.41.59.51 0 1.02-.2 1.41-.59l7.78-7.78 2.81-2.81c.8-.78.8-2.07 0-2.86zM5.41 20L4 18.59l7.72-7.72 1.47 1.35L5.41 20z\"/>\n",
              "  </svg>\n",
              "      </button>\n",
              "      \n",
              "  <style>\n",
              "    .colab-df-container {\n",
              "      display:flex;\n",
              "      flex-wrap:wrap;\n",
              "      gap: 12px;\n",
              "    }\n",
              "\n",
              "    .colab-df-convert {\n",
              "      background-color: #E8F0FE;\n",
              "      border: none;\n",
              "      border-radius: 50%;\n",
              "      cursor: pointer;\n",
              "      display: none;\n",
              "      fill: #1967D2;\n",
              "      height: 32px;\n",
              "      padding: 0 0 0 0;\n",
              "      width: 32px;\n",
              "    }\n",
              "\n",
              "    .colab-df-convert:hover {\n",
              "      background-color: #E2EBFA;\n",
              "      box-shadow: 0px 1px 2px rgba(60, 64, 67, 0.3), 0px 1px 3px 1px rgba(60, 64, 67, 0.15);\n",
              "      fill: #174EA6;\n",
              "    }\n",
              "\n",
              "    [theme=dark] .colab-df-convert {\n",
              "      background-color: #3B4455;\n",
              "      fill: #D2E3FC;\n",
              "    }\n",
              "\n",
              "    [theme=dark] .colab-df-convert:hover {\n",
              "      background-color: #434B5C;\n",
              "      box-shadow: 0px 1px 3px 1px rgba(0, 0, 0, 0.15);\n",
              "      filter: drop-shadow(0px 1px 2px rgba(0, 0, 0, 0.3));\n",
              "      fill: #FFFFFF;\n",
              "    }\n",
              "  </style>\n",
              "\n",
              "      <script>\n",
              "        const buttonEl =\n",
              "          document.querySelector('#df-36ebe530-41f6-4e0e-a01a-e20448bf57b2 button.colab-df-convert');\n",
              "        buttonEl.style.display =\n",
              "          google.colab.kernel.accessAllowed ? 'block' : 'none';\n",
              "\n",
              "        async function convertToInteractive(key) {\n",
              "          const element = document.querySelector('#df-36ebe530-41f6-4e0e-a01a-e20448bf57b2');\n",
              "          const dataTable =\n",
              "            await google.colab.kernel.invokeFunction('convertToInteractive',\n",
              "                                                     [key], {});\n",
              "          if (!dataTable) return;\n",
              "\n",
              "          const docLinkHtml = 'Like what you see? Visit the ' +\n",
              "            '<a target=\"_blank\" href=https://colab.research.google.com/notebooks/data_table.ipynb>data table notebook</a>'\n",
              "            + ' to learn more about interactive tables.';\n",
              "          element.innerHTML = '';\n",
              "          dataTable['output_type'] = 'display_data';\n",
              "          await google.colab.output.renderOutput(dataTable, element);\n",
              "          const docLink = document.createElement('div');\n",
              "          docLink.innerHTML = docLinkHtml;\n",
              "          element.appendChild(docLink);\n",
              "        }\n",
              "      </script>\n",
              "    </div>\n",
              "  </div>\n",
              "  "
            ]
          },
          "metadata": {},
          "execution_count": 29
        }
      ]
    },
    {
      "cell_type": "code",
      "source": [
        "# Using the heatmap to understand the correlation between features. Only those with positive correlation with the home scores and away scores will be plotted.\n",
        "sns.heatmap(data.corr(),annot=True);"
      ],
      "metadata": {
        "colab": {
          "base_uri": "https://localhost:8080/",
          "height": 388
        },
        "id": "0xyeXkR-EnHK",
        "outputId": "938d6167-5ff0-4f66-ccc6-8053670deca3"
      },
      "execution_count": 30,
      "outputs": [
        {
          "output_type": "display_data",
          "data": {
            "text/plain": [
              "<Figure size 432x288 with 2 Axes>"
            ],
            "image/png": "[encoded data removed]"
          },
          "metadata": {
            "needs_background": "light"
          }
        }
      ]
    },
    {
      "cell_type": "code",
      "source": [
        "away_score= data['away_score']\n",
        "\n",
        "plt.hist(away_score, bins=10, histtype='bar', rwidth=0.9)\n",
        "plt.xlabel('away_score')\n",
        "plt.ylabel('Quantity')\n",
        "plt.title('Histogram of away_score vs Number')\n",
        "plt.show()"
      ],
      "metadata": {
        "colab": {
          "base_uri": "https://localhost:8080/",
          "height": 295
        },
        "id": "UENDH0RG4nl6",
        "outputId": "b94d67c7-584d-486b-f94e-706180c5b1c3"
      },
      "execution_count": 31,
      "outputs": [
        {
          "output_type": "display_data",
          "data": {
            "text/plain": [
              "<Figure size 432x288 with 1 Axes>"
            ],
            "image/png": "[encoded data removed]"
          },
          "metadata": {
            "needs_background": "light"
          }
        }
      ]
    },
    {
      "cell_type": "code",
      "source": [
        "home_score = data['home_score']\n",
        "\n",
        "plt.hist(home_score, bins=10, histtype='bar', rwidth=0.9)\n",
        "plt.xlabel('home_score')\n",
        "plt.ylabel('Quantity')\n",
        "plt.title('Histogram of home_score vs Number')\n",
        "plt.show()"
      ],
      "metadata": {
        "colab": {
          "base_uri": "https://localhost:8080/",
          "height": 296
        },
        "id": "1G__xJGT5DUK",
        "outputId": "71d9ef18-0539-4e35-9793-4cfc56c4b1ce"
      },
      "execution_count": 32,
      "outputs": [
        {
          "output_type": "display_data",
          "data": {
            "text/plain": [
              "<Figure size 432x288 with 1 Axes>"
            ],
            "image/png": "[encoded data removed]"
          },
          "metadata": {
            "needs_background": "light"
          }
        }
      ]
    },
    {
      "cell_type": "code",
      "source": [
        "total_points = data['total_points']\n",
        "\n",
        "plt.hist(total_points, bins=10, histtype='bar', rwidth=0.9)\n",
        "plt.xlabel('total_points')\n",
        "plt.ylabel('Quantity')\n",
        "plt.title('Histogram of total_points vs Number')\n",
        "plt.show()"
      ],
      "metadata": {
        "colab": {
          "base_uri": "https://localhost:8080/",
          "height": 296
        },
        "id": "dkeXq5j95Gcn",
        "outputId": "8e300459-99a4-424e-cbbf-11cebe240978"
      },
      "execution_count": 33,
      "outputs": [
        {
          "output_type": "display_data",
          "data": {
            "text/plain": [
              "<Figure size 432x288 with 1 Axes>"
            ],
            "image/png": "[encoded data removed]"
          },
          "metadata": {
            "needs_background": "light"
          }
        }
      ]
    },
    {
      "cell_type": "code",
      "source": [
        "previous_points = data['previous_points']\n",
        "\n",
        "plt.hist(previous_points, bins=10, histtype='bar', rwidth=0.9)\n",
        "plt.xlabel('previous_points')\n",
        "plt.ylabel('Quantity')\n",
        "plt.title('Histogram of previous_points vs Number')\n",
        "plt.show()"
      ],
      "metadata": {
        "colab": {
          "base_uri": "https://localhost:8080/",
          "height": 296
        },
        "id": "77sfHK-05JyK",
        "outputId": "394debb5-0c58-45b9-9053-0c34a1fc0d1a"
      },
      "execution_count": 34,
      "outputs": [
        {
          "output_type": "display_data",
          "data": {
            "text/plain": [
              "<Figure size 432x288 with 1 Axes>"
            ],
            "image/png": "[encoded data removed]"
          },
          "metadata": {
            "needs_background": "light"
          }
        }
      ]
    },
    {
      "cell_type": "markdown",
      "source": [
        "### Bivariate analysis"
      ],
      "metadata": {
        "id": "s4CJc5qxJg95"
      }
    },
    {
      "cell_type": "code",
      "source": [
        "sns.scatterplot(x = data['home_score'], y = data['away_score']);"
      ],
      "metadata": {
        "colab": {
          "base_uri": "https://localhost:8080/",
          "height": 280
        },
        "id": "vWcOogKbHFui",
        "outputId": "3e1a347b-fb68-4865-ed1e-44ededde8ff7"
      },
      "execution_count": 35,
      "outputs": [
        {
          "output_type": "display_data",
          "data": {
            "text/plain": [
              "<Figure size 432x288 with 1 Axes>"
            ],
            "image/png": "[encoded data removed]"
          },
          "metadata": {
            "needs_background": "light"
          }
        }
      ]
    },
    {
      "cell_type": "code",
      "source": [
        "sns.scatterplot(x = data['away_score'], y = data['home_score']);"
      ],
      "metadata": {
        "colab": {
          "base_uri": "https://localhost:8080/",
          "height": 279
        },
        "id": "V0rMUJSXHFiA",
        "outputId": "b22f1e9d-df4c-4e8e-8c3a-cdd8f50edbf0"
      },
      "execution_count": 36,
      "outputs": [
        {
          "output_type": "display_data",
          "data": {
            "text/plain": [
              "<Figure size 432x288 with 1 Axes>"
            ],
            "image/png": "[encoded data removed]"
          },
          "metadata": {
            "needs_background": "light"
          }
        }
      ]
    },
    {
      "cell_type": "code",
      "source": [
        "sns.scatterplot(x = data['home_score'], y = data['rank_change']);"
      ],
      "metadata": {
        "colab": {
          "base_uri": "https://localhost:8080/",
          "height": 284
        },
        "id": "V5ssEhEWHFVy",
        "outputId": "548fc54d-7e87-4f1a-97fb-ecdce023202d"
      },
      "execution_count": 37,
      "outputs": [
        {
          "output_type": "display_data",
          "data": {
            "text/plain": [
              "<Figure size 432x288 with 1 Axes>"
            ],
            "image/png": "[encoded data removed]"
          },
          "metadata": {
            "needs_background": "light"
          }
        }
      ]
    },
    {
      "cell_type": "code",
      "source": [
        "sns.scatterplot(x = data['away_score'], y = data['rank_change']);"
      ],
      "metadata": {
        "colab": {
          "base_uri": "https://localhost:8080/",
          "height": 283
        },
        "id": "bwRu5WUjHxLc",
        "outputId": "0b78be8c-82dd-4c8b-bcc7-40e5cee238b3"
      },
      "execution_count": 38,
      "outputs": [
        {
          "output_type": "display_data",
          "data": {
            "text/plain": [
              "<Figure size 432x288 with 1 Axes>"
            ],
            "image/png": "[encoded data removed]"
          },
          "metadata": {
            "needs_background": "light"
          }
        }
      ]
    },
    {
      "cell_type": "markdown",
      "source": [
        "## Checking for multicollinearity."
      ],
      "metadata": {
        "id": "rGDXGKs5JvXV"
      }
    },
    {
      "cell_type": "code",
      "source": [
        "# Focusing on independent features only\n",
        "\n",
        "# Removing the serial and admit chance columns, we want to focus on our independent variables only.\n",
        "independent_only = data.drop(columns=['rank', 'rank_change','cur_year_avg_weighted', 'last_year_avg_weighted', 'two_year_ago_weighted', 'three_year_ago_weighted'])\n",
        "\n",
        "# Let's display the correlations between the variables\n",
        "correlations = independent_only.corr()\n",
        "\n",
        "correlations"
      ],
      "metadata": {
        "id": "r3mg9B_WLyIJ",
        "colab": {
          "base_uri": "https://localhost:8080/",
          "height": 300
        },
        "outputId": "eb7b25b7-7f31-4d1a-aedd-7c55fa6c16f2"
      },
      "execution_count": 39,
      "outputs": [
        {
          "output_type": "execute_result",
          "data": {
            "text/plain": [
              "                    total_points  previous_points  cur_year_avg  \\\n",
              "total_points            1.000000         0.535525      0.977089   \n",
              "previous_points         0.535525         1.000000      0.526597   \n",
              "cur_year_avg            0.977089         0.526597      1.000000   \n",
              "last_year_avg           0.940651         0.504219      0.863268   \n",
              "two_year_ago_avg        0.931054         0.492587      0.875792   \n",
              "three_year_ago_avg      0.923187         0.485273      0.864727   \n",
              "home_score              0.030221         0.062654      0.028844   \n",
              "away_score             -0.021424        -0.050009     -0.019688   \n",
              "\n",
              "                    last_year_avg  two_year_ago_avg  three_year_ago_avg  \\\n",
              "total_points             0.940651          0.931054            0.923187   \n",
              "previous_points          0.504219          0.492587            0.485273   \n",
              "cur_year_avg             0.863268          0.875792            0.864727   \n",
              "last_year_avg            1.000000          0.861840            0.880630   \n",
              "two_year_ago_avg         0.861840          1.000000            0.866882   \n",
              "three_year_ago_avg       0.880630          0.866882            1.000000   \n",
              "home_score               0.028715          0.028968            0.029402   \n",
              "away_score              -0.020902         -0.021074           -0.022499   \n",
              "\n",
              "                    home_score  away_score  \n",
              "total_points          0.030221   -0.021424  \n",
              "previous_points       0.062654   -0.050009  \n",
              "cur_year_avg          0.028844   -0.019688  \n",
              "last_year_avg         0.028715   -0.020902  \n",
              "two_year_ago_avg      0.028968   -0.021074  \n",
              "three_year_ago_avg    0.029402   -0.022499  \n",
              "home_score            1.000000   -0.136154  \n",
              "away_score           -0.136154    1.000000  "
            ],
            "text/html": [
              "\n",
              "  <div id=\"df-9d6e65b9-06cc-4ed1-b407-8d9a58edd3db\">\n",
              "    <div class=\"colab-df-container\">\n",
              "      <div>\n",
              "<style scoped>\n",
              "    .dataframe tbody tr th:only-of-type {\n",
              "        vertical-align: middle;\n",
              "    }\n",
              "\n",
              "    .dataframe tbody tr th {\n",
              "        vertical-align: top;\n",
              "    }\n",
              "\n",
              "    .dataframe thead th {\n",
              "        text-align: right;\n",
              "    }\n",
              "</style>\n",
              "<table border=\"1\" class=\"dataframe\">\n",
              "  <thead>\n",
              "    <tr style=\"text-align: right;\">\n",
              "      <th></th>\n",
              "      <th>total_points</th>\n",
              "      <th>previous_points</th>\n",
              "      <th>cur_year_avg</th>\n",
              "      <th>last_year_avg</th>\n",
              "      <th>two_year_ago_avg</th>\n",
              "      <th>three_year_ago_avg</th>\n",
              "      <th>home_score</th>\n",
              "      <th>away_score</th>\n",
              "    </tr>\n",
              "  </thead>\n",
              "  <tbody>\n",
              "    <tr>\n",
              "      <th>total_points</th>\n",
              "      <td>1.000000</td>\n",
              "      <td>0.535525</td>\n",
              "      <td>0.977089</td>\n",
              "      <td>0.940651</td>\n",
              "      <td>0.931054</td>\n",
              "      <td>0.923187</td>\n",
              "      <td>0.030221</td>\n",
              "      <td>-0.021424</td>\n",
              "    </tr>\n",
              "    <tr>\n",
              "      <th>previous_points</th>\n",
              "      <td>0.535525</td>\n",
              "      <td>1.000000</td>\n",
              "      <td>0.526597</td>\n",
              "      <td>0.504219</td>\n",
              "      <td>0.492587</td>\n",
              "      <td>0.485273</td>\n",
              "      <td>0.062654</td>\n",
              "      <td>-0.050009</td>\n",
              "    </tr>\n",
              "    <tr>\n",
              "      <th>cur_year_avg</th>\n",
              "      <td>0.977089</td>\n",
              "      <td>0.526597</td>\n",
              "      <td>1.000000</td>\n",
              "      <td>0.863268</td>\n",
              "      <td>0.875792</td>\n",
              "      <td>0.864727</td>\n",
              "      <td>0.028844</td>\n",
              "      <td>-0.019688</td>\n",
              "    </tr>\n",
              "    <tr>\n",
              "      <th>last_year_avg</th>\n",
              "      <td>0.940651</td>\n",
              "      <td>0.504219</td>\n",
              "      <td>0.863268</td>\n",
              "      <td>1.000000</td>\n",
              "      <td>0.861840</td>\n",
              "      <td>0.880630</td>\n",
              "      <td>0.028715</td>\n",
              "      <td>-0.020902</td>\n",
              "    </tr>\n",
              "    <tr>\n",
              "      <th>two_year_ago_avg</th>\n",
              "      <td>0.931054</td>\n",
              "      <td>0.492587</td>\n",
              "      <td>0.875792</td>\n",
              "      <td>0.861840</td>\n",
              "      <td>1.000000</td>\n",
              "      <td>0.866882</td>\n",
              "      <td>0.028968</td>\n",
              "      <td>-0.021074</td>\n",
              "    </tr>\n",
              "    <tr>\n",
              "      <th>three_year_ago_avg</th>\n",
              "      <td>0.923187</td>\n",
              "      <td>0.485273</td>\n",
              "      <td>0.864727</td>\n",
              "      <td>0.880630</td>\n",
              "      <td>0.866882</td>\n",
              "      <td>1.000000</td>\n",
              "      <td>0.029402</td>\n",
              "      <td>-0.022499</td>\n",
              "    </tr>\n",
              "    <tr>\n",
              "      <th>home_score</th>\n",
              "      <td>0.030221</td>\n",
              "      <td>0.062654</td>\n",
              "      <td>0.028844</td>\n",
              "      <td>0.028715</td>\n",
              "      <td>0.028968</td>\n",
              "      <td>0.029402</td>\n",
              "      <td>1.000000</td>\n",
              "      <td>-0.136154</td>\n",
              "    </tr>\n",
              "    <tr>\n",
              "      <th>away_score</th>\n",
              "      <td>-0.021424</td>\n",
              "      <td>-0.050009</td>\n",
              "      <td>-0.019688</td>\n",
              "      <td>-0.020902</td>\n",
              "      <td>-0.021074</td>\n",
              "      <td>-0.022499</td>\n",
              "      <td>-0.136154</td>\n",
              "      <td>1.000000</td>\n",
              "    </tr>\n",
              "  </tbody>\n",
              "</table>\n",
              "</div>\n",
              "      <button class=\"colab-df-convert\" onclick=\"convertToInteractive('df-9d6e65b9-06cc-4ed1-b407-8d9a58edd3db')\"\n",
              "              title=\"Convert this dataframe to an interactive table.\"\n",
              "              style=\"display:none;\">\n",
              "        \n",
              "  <svg xmlns=\"http://www.w3.org/2000/svg\" height=\"24px\"viewBox=\"0 0 24 24\"\n",
              "       width=\"24px\">\n",
              "    <path d=\"M0 0h24v24H0V0z\" fill=\"none\"/>\n",
              "    <path d=\"M18.56 5.44l.94 2.06.94-2.06 2.06-.94-2.06-.94-.94-2.06-.94 2.06-2.06.94zm-11 1L8.5 8.5l.94-2.06 2.06-.94-2.06-.94L8.5 2.5l-.94 2.06-2.06.94zm10 10l.94 2.06.94-2.06 2.06-.94-2.06-.94-.94-2.06-.94 2.06-2.06.94z\"/><path d=\"M17.41 7.96l-1.37-1.37c-.4-.4-.92-.59-1.43-.59-.52 0-1.04.2-1.43.59L10.3 9.45l-7.72 7.72c-.78.78-.78 2.05 0 2.83L4 21.41c.39.39.9.59 1.41.59.51 0 1.02-.2 1.41-.59l7.78-7.78 2.81-2.81c.8-.78.8-2.07 0-2.86zM5.41 20L4 18.59l7.72-7.72 1.47 1.35L5.41 20z\"/>\n",
              "  </svg>\n",
              "      </button>\n",
              "      \n",
              "  <style>\n",
              "    .colab-df-container {\n",
              "      display:flex;\n",
              "      flex-wrap:wrap;\n",
              "      gap: 12px;\n",
              "    }\n",
              "\n",
              "    .colab-df-convert {\n",
              "      background-color: #E8F0FE;\n",
              "      border: none;\n",
              "      border-radius: 50%;\n",
              "      cursor: pointer;\n",
              "      display: none;\n",
              "      fill: #1967D2;\n",
              "      height: 32px;\n",
              "      padding: 0 0 0 0;\n",
              "      width: 32px;\n",
              "    }\n",
              "\n",
              "    .colab-df-convert:hover {\n",
              "      background-color: #E2EBFA;\n",
              "      box-shadow: 0px 1px 2px rgba(60, 64, 67, 0.3), 0px 1px 3px 1px rgba(60, 64, 67, 0.15);\n",
              "      fill: #174EA6;\n",
              "    }\n",
              "\n",
              "    [theme=dark] .colab-df-convert {\n",
              "      background-color: #3B4455;\n",
              "      fill: #D2E3FC;\n",
              "    }\n",
              "\n",
              "    [theme=dark] .colab-df-convert:hover {\n",
              "      background-color: #434B5C;\n",
              "      box-shadow: 0px 1px 3px 1px rgba(0, 0, 0, 0.15);\n",
              "      filter: drop-shadow(0px 1px 2px rgba(0, 0, 0, 0.3));\n",
              "      fill: #FFFFFF;\n",
              "    }\n",
              "  </style>\n",
              "\n",
              "      <script>\n",
              "        const buttonEl =\n",
              "          document.querySelector('#df-9d6e65b9-06cc-4ed1-b407-8d9a58edd3db button.colab-df-convert');\n",
              "        buttonEl.style.display =\n",
              "          google.colab.kernel.accessAllowed ? 'block' : 'none';\n",
              "\n",
              "        async function convertToInteractive(key) {\n",
              "          const element = document.querySelector('#df-9d6e65b9-06cc-4ed1-b407-8d9a58edd3db');\n",
              "          const dataTable =\n",
              "            await google.colab.kernel.invokeFunction('convertToInteractive',\n",
              "                                                     [key], {});\n",
              "          if (!dataTable) return;\n",
              "\n",
              "          const docLinkHtml = 'Like what you see? Visit the ' +\n",
              "            '<a target=\"_blank\" href=https://colab.research.google.com/notebooks/data_table.ipynb>data table notebook</a>'\n",
              "            + ' to learn more about interactive tables.';\n",
              "          element.innerHTML = '';\n",
              "          dataTable['output_type'] = 'display_data';\n",
              "          await google.colab.output.renderOutput(dataTable, element);\n",
              "          const docLink = document.createElement('div');\n",
              "          docLink.innerHTML = docLinkHtml;\n",
              "          element.appendChild(docLink);\n",
              "        }\n",
              "      </script>\n",
              "    </div>\n",
              "  </div>\n",
              "  "
            ]
          },
          "metadata": {},
          "execution_count": 39
        }
      ]
    },
    {
      "cell_type": "code",
      "source": [
        "pd.DataFrame(np.linalg.inv(correlations.values), index = correlations.index, columns=correlations.columns)\n",
        "# Interpreting the table is straightforward: The VIF score for each variable is found alongside the \n",
        "# downwards sloping diagonal. Total points has a score of 788702.576624, previous_points has a score of 1.410112 etc.\n",
        "\n",
        "# The highest value is for total points. Let's see how the VIF scores improve if we remove it from our dataset\n"
      ],
      "metadata": {
        "id": "rmCgS3AbIqr4",
        "colab": {
          "base_uri": "https://localhost:8080/",
          "height": 300
        },
        "outputId": "bea08e52-3aa3-481b-e70f-a927ba428f8a"
      },
      "execution_count": 40,
      "outputs": [
        {
          "output_type": "execute_result",
          "data": {
            "text/plain": [
              "                     total_points  previous_points   cur_year_avg  \\\n",
              "total_points        788702.576624         2.032713 -414103.155469   \n",
              "previous_points          2.032713         1.410112      -1.529261   \n",
              "cur_year_avg       -414103.155469        -1.529261  217428.074574   \n",
              "last_year_avg      -206983.711640        -0.771733  108673.922085   \n",
              "two_year_ago_avg   -122754.365190        -0.394342   64449.120258   \n",
              "three_year_ago_avg  -81344.867358        -0.214213   42708.014043   \n",
              "home_score               0.037211        -0.059443      -0.007943   \n",
              "away_score               1.113485         0.046605      -0.604967   \n",
              "\n",
              "                    last_year_avg  two_year_ago_avg  three_year_ago_avg  \\\n",
              "total_points       -206983.711640    -122754.365190       -81344.867358   \n",
              "previous_points         -0.771733         -0.394342           -0.214213   \n",
              "cur_year_avg        108673.922085      64449.120258        42708.014043   \n",
              "last_year_avg        54325.794688      32213.643632        21345.342992   \n",
              "two_year_ago_avg     32213.643632      19111.379702        12658.874131   \n",
              "three_year_ago_avg   21345.342992      12658.874131         8395.726351   \n",
              "home_score              -0.005113         -0.009772           -0.012653   \n",
              "away_score              -0.297190         -0.169953           -0.099435   \n",
              "\n",
              "                    home_score  away_score  \n",
              "total_points          0.037211    1.113485  \n",
              "previous_points      -0.059443    0.046605  \n",
              "cur_year_avg         -0.007943   -0.604967  \n",
              "last_year_avg        -0.005113   -0.297190  \n",
              "two_year_ago_avg     -0.009772   -0.169953  \n",
              "three_year_ago_avg   -0.012653   -0.099435  \n",
              "home_score            1.022181    0.136245  \n",
              "away_score            0.136245    1.020795  "
            ],
            "text/html": [
              "\n",
              "  <div id=\"df-86642d30-d399-4c7a-b3a2-286775cfcb0d\">\n",
              "    <div class=\"colab-df-container\">\n",
              "      <div>\n",
              "<style scoped>\n",
              "    .dataframe tbody tr th:only-of-type {\n",
              "        vertical-align: middle;\n",
              "    }\n",
              "\n",
              "    .dataframe tbody tr th {\n",
              "        vertical-align: top;\n",
              "    }\n",
              "\n",
              "    .dataframe thead th {\n",
              "        text-align: right;\n",
              "    }\n",
              "</style>\n",
              "<table border=\"1\" class=\"dataframe\">\n",
              "  <thead>\n",
              "    <tr style=\"text-align: right;\">\n",
              "      <th></th>\n",
              "      <th>total_points</th>\n",
              "      <th>previous_points</th>\n",
              "      <th>cur_year_avg</th>\n",
              "      <th>last_year_avg</th>\n",
              "      <th>two_year_ago_avg</th>\n",
              "      <th>three_year_ago_avg</th>\n",
              "      <th>home_score</th>\n",
              "      <th>away_score</th>\n",
              "    </tr>\n",
              "  </thead>\n",
              "  <tbody>\n",
              "    <tr>\n",
              "      <th>total_points</th>\n",
              "      <td>788702.576624</td>\n",
              "      <td>2.032713</td>\n",
              "      <td>-414103.155469</td>\n",
              "      <td>-206983.711640</td>\n",
              "      <td>-122754.365190</td>\n",
              "      <td>-81344.867358</td>\n",
              "      <td>0.037211</td>\n",
              "      <td>1.113485</td>\n",
              "    </tr>\n",
              "    <tr>\n",
              "      <th>previous_points</th>\n",
              "      <td>2.032713</td>\n",
              "      <td>1.410112</td>\n",
              "      <td>-1.529261</td>\n",
              "      <td>-0.771733</td>\n",
              "      <td>-0.394342</td>\n",
              "      <td>-0.214213</td>\n",
              "      <td>-0.059443</td>\n",
              "      <td>0.046605</td>\n",
              "    </tr>\n",
              "    <tr>\n",
              "      <th>cur_year_avg</th>\n",
              "      <td>-414103.155469</td>\n",
              "      <td>-1.529261</td>\n",
              "      <td>217428.074574</td>\n",
              "      <td>108673.922085</td>\n",
              "      <td>64449.120258</td>\n",
              "      <td>42708.014043</td>\n",
              "      <td>-0.007943</td>\n",
              "      <td>-0.604967</td>\n",
              "    </tr>\n",
              "    <tr>\n",
              "      <th>last_year_avg</th>\n",
              "      <td>-206983.711640</td>\n",
              "      <td>-0.771733</td>\n",
              "      <td>108673.922085</td>\n",
              "      <td>54325.794688</td>\n",
              "      <td>32213.643632</td>\n",
              "      <td>21345.342992</td>\n",
              "      <td>-0.005113</td>\n",
              "      <td>-0.297190</td>\n",
              "    </tr>\n",
              "    <tr>\n",
              "      <th>two_year_ago_avg</th>\n",
              "      <td>-122754.365190</td>\n",
              "      <td>-0.394342</td>\n",
              "      <td>64449.120258</td>\n",
              "      <td>32213.643632</td>\n",
              "      <td>19111.379702</td>\n",
              "      <td>12658.874131</td>\n",
              "      <td>-0.009772</td>\n",
              "      <td>-0.169953</td>\n",
              "    </tr>\n",
              "    <tr>\n",
              "      <th>three_year_ago_avg</th>\n",
              "      <td>-81344.867358</td>\n",
              "      <td>-0.214213</td>\n",
              "      <td>42708.014043</td>\n",
              "      <td>21345.342992</td>\n",
              "      <td>12658.874131</td>\n",
              "      <td>8395.726351</td>\n",
              "      <td>-0.012653</td>\n",
              "      <td>-0.099435</td>\n",
              "    </tr>\n",
              "    <tr>\n",
              "      <th>home_score</th>\n",
              "      <td>0.037211</td>\n",
              "      <td>-0.059443</td>\n",
              "      <td>-0.007943</td>\n",
              "      <td>-0.005113</td>\n",
              "      <td>-0.009772</td>\n",
              "      <td>-0.012653</td>\n",
              "      <td>1.022181</td>\n",
              "      <td>0.136245</td>\n",
              "    </tr>\n",
              "    <tr>\n",
              "      <th>away_score</th>\n",
              "      <td>1.113485</td>\n",
              "      <td>0.046605</td>\n",
              "      <td>-0.604967</td>\n",
              "      <td>-0.297190</td>\n",
              "      <td>-0.169953</td>\n",
              "      <td>-0.099435</td>\n",
              "      <td>0.136245</td>\n",
              "      <td>1.020795</td>\n",
              "    </tr>\n",
              "  </tbody>\n",
              "</table>\n",
              "</div>\n",
              "      <button class=\"colab-df-convert\" onclick=\"convertToInteractive('df-86642d30-d399-4c7a-b3a2-286775cfcb0d')\"\n",
              "              title=\"Convert this dataframe to an interactive table.\"\n",
              "              style=\"display:none;\">\n",
              "        \n",
              "  <svg xmlns=\"http://www.w3.org/2000/svg\" height=\"24px\"viewBox=\"0 0 24 24\"\n",
              "       width=\"24px\">\n",
              "    <path d=\"M0 0h24v24H0V0z\" fill=\"none\"/>\n",
              "    <path d=\"M18.56 5.44l.94 2.06.94-2.06 2.06-.94-2.06-.94-.94-2.06-.94 2.06-2.06.94zm-11 1L8.5 8.5l.94-2.06 2.06-.94-2.06-.94L8.5 2.5l-.94 2.06-2.06.94zm10 10l.94 2.06.94-2.06 2.06-.94-2.06-.94-.94-2.06-.94 2.06-2.06.94z\"/><path d=\"M17.41 7.96l-1.37-1.37c-.4-.4-.92-.59-1.43-.59-.52 0-1.04.2-1.43.59L10.3 9.45l-7.72 7.72c-.78.78-.78 2.05 0 2.83L4 21.41c.39.39.9.59 1.41.59.51 0 1.02-.2 1.41-.59l7.78-7.78 2.81-2.81c.8-.78.8-2.07 0-2.86zM5.41 20L4 18.59l7.72-7.72 1.47 1.35L5.41 20z\"/>\n",
              "  </svg>\n",
              "      </button>\n",
              "      \n",
              "  <style>\n",
              "    .colab-df-container {\n",
              "      display:flex;\n",
              "      flex-wrap:wrap;\n",
              "      gap: 12px;\n",
              "    }\n",
              "\n",
              "    .colab-df-convert {\n",
              "      background-color: #E8F0FE;\n",
              "      border: none;\n",
              "      border-radius: 50%;\n",
              "      cursor: pointer;\n",
              "      display: none;\n",
              "      fill: #1967D2;\n",
              "      height: 32px;\n",
              "      padding: 0 0 0 0;\n",
              "      width: 32px;\n",
              "    }\n",
              "\n",
              "    .colab-df-convert:hover {\n",
              "      background-color: #E2EBFA;\n",
              "      box-shadow: 0px 1px 2px rgba(60, 64, 67, 0.3), 0px 1px 3px 1px rgba(60, 64, 67, 0.15);\n",
              "      fill: #174EA6;\n",
              "    }\n",
              "\n",
              "    [theme=dark] .colab-df-convert {\n",
              "      background-color: #3B4455;\n",
              "      fill: #D2E3FC;\n",
              "    }\n",
              "\n",
              "    [theme=dark] .colab-df-convert:hover {\n",
              "      background-color: #434B5C;\n",
              "      box-shadow: 0px 1px 3px 1px rgba(0, 0, 0, 0.15);\n",
              "      filter: drop-shadow(0px 1px 2px rgba(0, 0, 0, 0.3));\n",
              "      fill: #FFFFFF;\n",
              "    }\n",
              "  </style>\n",
              "\n",
              "      <script>\n",
              "        const buttonEl =\n",
              "          document.querySelector('#df-86642d30-d399-4c7a-b3a2-286775cfcb0d button.colab-df-convert');\n",
              "        buttonEl.style.display =\n",
              "          google.colab.kernel.accessAllowed ? 'block' : 'none';\n",
              "\n",
              "        async function convertToInteractive(key) {\n",
              "          const element = document.querySelector('#df-86642d30-d399-4c7a-b3a2-286775cfcb0d');\n",
              "          const dataTable =\n",
              "            await google.colab.kernel.invokeFunction('convertToInteractive',\n",
              "                                                     [key], {});\n",
              "          if (!dataTable) return;\n",
              "\n",
              "          const docLinkHtml = 'Like what you see? Visit the ' +\n",
              "            '<a target=\"_blank\" href=https://colab.research.google.com/notebooks/data_table.ipynb>data table notebook</a>'\n",
              "            + ' to learn more about interactive tables.';\n",
              "          element.innerHTML = '';\n",
              "          dataTable['output_type'] = 'display_data';\n",
              "          await google.colab.output.renderOutput(dataTable, element);\n",
              "          const docLink = document.createElement('div');\n",
              "          docLink.innerHTML = docLinkHtml;\n",
              "          element.appendChild(docLink);\n",
              "        }\n",
              "      </script>\n",
              "    </div>\n",
              "  </div>\n",
              "  "
            ]
          },
          "metadata": {},
          "execution_count": 40
        }
      ]
    },
    {
      "cell_type": "code",
      "source": [
        "revised = independent_only.drop(columns=['total_points'])\n",
        "\n",
        "correlations = revised.corr()\n",
        "pd.DataFrame(np.linalg.inv(correlations.values), index = correlations.index, columns=correlations.columns)\n",
        "\n",
        "# All scores have dropped, but all the previous points have droped significantly, indicating collinearity."
      ],
      "metadata": {
        "id": "mS6JC2W_Lm6Q",
        "colab": {
          "base_uri": "https://localhost:8080/",
          "height": 269
        },
        "outputId": "e5b52c68-d2dc-4310-ab14-4671c9e52a71"
      },
      "execution_count": 41,
      "outputs": [
        {
          "output_type": "execute_result",
          "data": {
            "text/plain": [
              "                    previous_points  cur_year_avg  last_year_avg  \\\n",
              "previous_points            1.410107     -0.461998      -0.238277   \n",
              "cur_year_avg              -0.461998      5.907522      -1.528790   \n",
              "last_year_avg             -0.238277     -1.528790       5.879736   \n",
              "two_year_ago_avg          -0.077969     -2.260376      -1.483946   \n",
              "three_year_ago_avg        -0.004564     -1.579222      -2.454096   \n",
              "home_score                -0.059443      0.011595       0.004652   \n",
              "away_score                 0.046602     -0.020339      -0.004971   \n",
              "\n",
              "                    two_year_ago_avg  three_year_ago_avg  home_score  \\\n",
              "previous_points            -0.077969           -0.004564   -0.059443   \n",
              "cur_year_avg               -2.260376           -1.579222    0.011595   \n",
              "last_year_avg              -1.483946           -2.454096    0.004652   \n",
              "two_year_ago_avg            5.781952           -1.712825   -0.003980   \n",
              "three_year_ago_avg         -1.712825            6.014384   -0.008816   \n",
              "home_score                 -0.003980           -0.008816    1.022181   \n",
              "away_score                  0.003350            0.015407    0.136245   \n",
              "\n",
              "                    away_score  \n",
              "previous_points       0.046602  \n",
              "cur_year_avg         -0.020339  \n",
              "last_year_avg        -0.004971  \n",
              "two_year_ago_avg      0.003350  \n",
              "three_year_ago_avg    0.015407  \n",
              "home_score            0.136245  \n",
              "away_score            1.020794  "
            ],
            "text/html": [
              "\n",
              "  <div id=\"df-9a3200fc-a56a-4099-b6d2-ad9f71644afd\">\n",
              "    <div class=\"colab-df-container\">\n",
              "      <div>\n",
              "<style scoped>\n",
              "    .dataframe tbody tr th:only-of-type {\n",
              "        vertical-align: middle;\n",
              "    }\n",
              "\n",
              "    .dataframe tbody tr th {\n",
              "        vertical-align: top;\n",
              "    }\n",
              "\n",
              "    .dataframe thead th {\n",
              "        text-align: right;\n",
              "    }\n",
              "</style>\n",
              "<table border=\"1\" class=\"dataframe\">\n",
              "  <thead>\n",
              "    <tr style=\"text-align: right;\">\n",
              "      <th></th>\n",
              "      <th>previous_points</th>\n",
              "      <th>cur_year_avg</th>\n",
              "      <th>last_year_avg</th>\n",
              "      <th>two_year_ago_avg</th>\n",
              "      <th>three_year_ago_avg</th>\n",
              "      <th>home_score</th>\n",
              "      <th>away_score</th>\n",
              "    </tr>\n",
              "  </thead>\n",
              "  <tbody>\n",
              "    <tr>\n",
              "      <th>previous_points</th>\n",
              "      <td>1.410107</td>\n",
              "      <td>-0.461998</td>\n",
              "      <td>-0.238277</td>\n",
              "      <td>-0.077969</td>\n",
              "      <td>-0.004564</td>\n",
              "      <td>-0.059443</td>\n",
              "      <td>0.046602</td>\n",
              "    </tr>\n",
              "    <tr>\n",
              "      <th>cur_year_avg</th>\n",
              "      <td>-0.461998</td>\n",
              "      <td>5.907522</td>\n",
              "      <td>-1.528790</td>\n",
              "      <td>-2.260376</td>\n",
              "      <td>-1.579222</td>\n",
              "      <td>0.011595</td>\n",
              "      <td>-0.020339</td>\n",
              "    </tr>\n",
              "    <tr>\n",
              "      <th>last_year_avg</th>\n",
              "      <td>-0.238277</td>\n",
              "      <td>-1.528790</td>\n",
              "      <td>5.879736</td>\n",
              "      <td>-1.483946</td>\n",
              "      <td>-2.454096</td>\n",
              "      <td>0.004652</td>\n",
              "      <td>-0.004971</td>\n",
              "    </tr>\n",
              "    <tr>\n",
              "      <th>two_year_ago_avg</th>\n",
              "      <td>-0.077969</td>\n",
              "      <td>-2.260376</td>\n",
              "      <td>-1.483946</td>\n",
              "      <td>5.781952</td>\n",
              "      <td>-1.712825</td>\n",
              "      <td>-0.003980</td>\n",
              "      <td>0.003350</td>\n",
              "    </tr>\n",
              "    <tr>\n",
              "      <th>three_year_ago_avg</th>\n",
              "      <td>-0.004564</td>\n",
              "      <td>-1.579222</td>\n",
              "      <td>-2.454096</td>\n",
              "      <td>-1.712825</td>\n",
              "      <td>6.014384</td>\n",
              "      <td>-0.008816</td>\n",
              "      <td>0.015407</td>\n",
              "    </tr>\n",
              "    <tr>\n",
              "      <th>home_score</th>\n",
              "      <td>-0.059443</td>\n",
              "      <td>0.011595</td>\n",
              "      <td>0.004652</td>\n",
              "      <td>-0.003980</td>\n",
              "      <td>-0.008816</td>\n",
              "      <td>1.022181</td>\n",
              "      <td>0.136245</td>\n",
              "    </tr>\n",
              "    <tr>\n",
              "      <th>away_score</th>\n",
              "      <td>0.046602</td>\n",
              "      <td>-0.020339</td>\n",
              "      <td>-0.004971</td>\n",
              "      <td>0.003350</td>\n",
              "      <td>0.015407</td>\n",
              "      <td>0.136245</td>\n",
              "      <td>1.020794</td>\n",
              "    </tr>\n",
              "  </tbody>\n",
              "</table>\n",
              "</div>\n",
              "      <button class=\"colab-df-convert\" onclick=\"convertToInteractive('df-9a3200fc-a56a-4099-b6d2-ad9f71644afd')\"\n",
              "              title=\"Convert this dataframe to an interactive table.\"\n",
              "              style=\"display:none;\">\n",
              "        \n",
              "  <svg xmlns=\"http://www.w3.org/2000/svg\" height=\"24px\"viewBox=\"0 0 24 24\"\n",
              "       width=\"24px\">\n",
              "    <path d=\"M0 0h24v24H0V0z\" fill=\"none\"/>\n",
              "    <path d=\"M18.56 5.44l.94 2.06.94-2.06 2.06-.94-2.06-.94-.94-2.06-.94 2.06-2.06.94zm-11 1L8.5 8.5l.94-2.06 2.06-.94-2.06-.94L8.5 2.5l-.94 2.06-2.06.94zm10 10l.94 2.06.94-2.06 2.06-.94-2.06-.94-.94-2.06-.94 2.06-2.06.94z\"/><path d=\"M17.41 7.96l-1.37-1.37c-.4-.4-.92-.59-1.43-.59-.52 0-1.04.2-1.43.59L10.3 9.45l-7.72 7.72c-.78.78-.78 2.05 0 2.83L4 21.41c.39.39.9.59 1.41.59.51 0 1.02-.2 1.41-.59l7.78-7.78 2.81-2.81c.8-.78.8-2.07 0-2.86zM5.41 20L4 18.59l7.72-7.72 1.47 1.35L5.41 20z\"/>\n",
              "  </svg>\n",
              "      </button>\n",
              "      \n",
              "  <style>\n",
              "    .colab-df-container {\n",
              "      display:flex;\n",
              "      flex-wrap:wrap;\n",
              "      gap: 12px;\n",
              "    }\n",
              "\n",
              "    .colab-df-convert {\n",
              "      background-color: #E8F0FE;\n",
              "      border: none;\n",
              "      border-radius: 50%;\n",
              "      cursor: pointer;\n",
              "      display: none;\n",
              "      fill: #1967D2;\n",
              "      height: 32px;\n",
              "      padding: 0 0 0 0;\n",
              "      width: 32px;\n",
              "    }\n",
              "\n",
              "    .colab-df-convert:hover {\n",
              "      background-color: #E2EBFA;\n",
              "      box-shadow: 0px 1px 2px rgba(60, 64, 67, 0.3), 0px 1px 3px 1px rgba(60, 64, 67, 0.15);\n",
              "      fill: #174EA6;\n",
              "    }\n",
              "\n",
              "    [theme=dark] .colab-df-convert {\n",
              "      background-color: #3B4455;\n",
              "      fill: #D2E3FC;\n",
              "    }\n",
              "\n",
              "    [theme=dark] .colab-df-convert:hover {\n",
              "      background-color: #434B5C;\n",
              "      box-shadow: 0px 1px 3px 1px rgba(0, 0, 0, 0.15);\n",
              "      filter: drop-shadow(0px 1px 2px rgba(0, 0, 0, 0.3));\n",
              "      fill: #FFFFFF;\n",
              "    }\n",
              "  </style>\n",
              "\n",
              "      <script>\n",
              "        const buttonEl =\n",
              "          document.querySelector('#df-9a3200fc-a56a-4099-b6d2-ad9f71644afd button.colab-df-convert');\n",
              "        buttonEl.style.display =\n",
              "          google.colab.kernel.accessAllowed ? 'block' : 'none';\n",
              "\n",
              "        async function convertToInteractive(key) {\n",
              "          const element = document.querySelector('#df-9a3200fc-a56a-4099-b6d2-ad9f71644afd');\n",
              "          const dataTable =\n",
              "            await google.colab.kernel.invokeFunction('convertToInteractive',\n",
              "                                                     [key], {});\n",
              "          if (!dataTable) return;\n",
              "\n",
              "          const docLinkHtml = 'Like what you see? Visit the ' +\n",
              "            '<a target=\"_blank\" href=https://colab.research.google.com/notebooks/data_table.ipynb>data table notebook</a>'\n",
              "            + ' to learn more about interactive tables.';\n",
              "          element.innerHTML = '';\n",
              "          dataTable['output_type'] = 'display_data';\n",
              "          await google.colab.output.renderOutput(dataTable, element);\n",
              "          const docLink = document.createElement('div');\n",
              "          docLink.innerHTML = docLinkHtml;\n",
              "          element.appendChild(docLink);\n",
              "        }\n",
              "      </script>\n",
              "    </div>\n",
              "  </div>\n",
              "  "
            ]
          },
          "metadata": {},
          "execution_count": 41
        }
      ]
    }
  ]
}