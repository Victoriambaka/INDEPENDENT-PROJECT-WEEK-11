{
  "nbformat": 4,
  "nbformat_minor": 0,
  "metadata": {
    "colab": {
      "name": "Copy of Week 11 Independent project: Regression Victoria Mbaka 2022",
      "provenance": [],
      "collapsed_sections": [
        "kLG2VTrnTvYL",
        "XecOwPNorl2W",
        "J4wfHZwQrs-t",
        "a9BPYqunry97",
        "7KMRBJ7zr9HD",
        "zSGyg6kWsBUl",
        "iUNbvIvnT7ep",
        "OI3P3YnHUEBk",
        "ckfufNrcUHeH",
        "6XC_g-zKxe-r",
        "FlBMxEDBUc9B",
        "rF2ABPsHUtbZ",
        "vTbdjSrhVIiT",
        "lQ2G4ZPDVOXE",
        "xrmHVMVsVS--",
        "HPQviDmNtta8",
        "qjFHK1CKty7o",
        "HSsicSdvt4Zs"
      ]
    },
    "kernelspec": {
      "name": "python3",
      "display_name": "Python 3"
    }
  },
  "cells": [
    {
      "cell_type": "markdown",
      "metadata": {
        "id": "xMxtPsqcTsSH"
      },
      "source": [
        "# **INDEPENDENT PROJECT 11: PREDICTION WITH REGRESSION** (continuation 4 - 9)\n",
        "\n",
        "---\n",
        "\n",
        "\n",
        "\n",
        "---\n",
        "\n"
      ]
    },
    {
      "cell_type": "markdown",
      "metadata": {
        "id": "kLG2VTrnTvYL"
      },
      "source": [
        "1. Defining the Question"
      ]
    },
    {
      "cell_type": "markdown",
      "metadata": {
        "id": "XecOwPNorl2W"
      },
      "source": [
        "### a) Specifying the Question"
      ]
    },
    {
      "cell_type": "markdown",
      "source": [
        "You have been recruited as a football analyst in a company - Mchezopesa Ltd and tasked to accomplish the task below.\n",
        "\n",
        "A prediction result of a game between team 1 and team 2, based on who's home and who's away, and on whether or not the game is friendly (include rank in your training).\n",
        "\n",
        "***Input***: Home team, Away team, Tournament type (World cup, Friendly, Other)\n",
        "\n",
        "***`Approach 1`***: Polynomial approach\n",
        "\n",
        "What to train given:\n",
        "\n",
        "*   Rank of home team\n",
        "*   Rank of away team\n",
        "*   Tournament scores.\n",
        "\n",
        "\n",
        "Model 1: Predict how many goals the home team scores.\n",
        "\n",
        "Model 2: Predict how many goals the away team scores."
      ],
      "metadata": {
        "id": "uJPksOJyiket"
      }
    },
    {
      "cell_type": "markdown",
      "metadata": {
        "id": "J4wfHZwQrs-t"
      },
      "source": [
        "### b) Defining the Metric for Success\n",
        "\n",
        "\n",
        "*   Being able to predict the goals for home team scores and the away team scores.\n",
        "\n"
      ]
    },
    {
      "cell_type": "markdown",
      "metadata": {
        "id": "a9BPYqunry97"
      },
      "source": [
        "### c) Understanding the context\n",
        "\n",
        "*   This is a problem that requires prediction(prediction problems are worked out using regression.)\n",
        "\n",
        "\n",
        "\n"
      ]
    },
    {
      "cell_type": "markdown",
      "metadata": {
        "id": "zSGyg6kWsBUl"
      },
      "source": [
        "### e) Data Relevance\n",
        "The data provided is upto date and relevant for the analysis to be done.\n",
        "the dataset can be found here: [Dataset](https://drive.google.com/open?id=1BYUqaEEnFtAe5lvzJh9lpVpR2MAvERUc)"
      ]
    },
    {
      "cell_type": "markdown",
      "metadata": {
        "id": "7KMRBJ7zr9HD"
      },
      "source": [
        "### d) Recording the Experimental Design\n",
        "\n",
        " The flow of this prediction analysis is as follows:\n",
        "\n",
        "1.   Define the question\n",
        "2.   Define the metric for success\n",
        "3.   Understansing the context\n",
        "4.   Documenting the experimental design taken and the appropriateness of the available data to answer the given question.\n",
        "\n",
        "Expected flow for the assessment:\n",
        "\n",
        "1.   Perform EDA\n",
        "2.   Perform any necessary feature engineering \n",
        "3.   Check of multicollinearity\n",
        "4.   Start building the model\n",
        "5.   Cross-validate the model\n",
        "6.   Compute RMSE\n",
        "7.   Create residual plots for your models, and assess their heteroscedasticity using Bartlett’s test\n",
        "8.   Perform appropriate regressions on the data including your justification\n",
        "9.   Challenge your solution by providing insights on how you can make improvements. \n",
        "\n"
      ]
    },
    {
      "cell_type": "markdown",
      "metadata": {
        "id": "iUNbvIvnT7ep"
      },
      "source": [
        "## 2. Reading the Data"
      ]
    },
    {
      "cell_type": "code",
      "source": [
        "import pandas as pd\n",
        "import numpy as np\n",
        "import seaborn as sns\n",
        "import matplotlib\n",
        "from matplotlib import pyplot as plt\n",
        "%matplotlib inline"
      ],
      "metadata": {
        "id": "EenbA7qY61ps"
      },
      "execution_count": 2,
      "outputs": []
    },
    {
      "cell_type": "code",
      "metadata": {
        "id": "XJn2KjW-WMlG"
      },
      "source": [
        "# Loading the Datasets\n",
        "url = '/content/fifa_ranking.csv'\n",
        "ranking = pd.read_csv(url)\n",
        "url1 = '/content/results.csv'\n",
        "results = pd.read_csv(url1)"
      ],
      "execution_count": 3,
      "outputs": []
    },
    {
      "cell_type": "markdown",
      "metadata": {
        "id": "OI3P3YnHUEBk"
      },
      "source": [
        "## 3. Checking the Data"
      ]
    },
    {
      "cell_type": "code",
      "metadata": {
        "id": "YjSVNwgptHxY",
        "colab": {
          "base_uri": "https://localhost:8080/"
        },
        "outputId": "34822e05-76af-48f5-cdb0-1a071256ce83"
      },
      "source": [
        "# Determining the no. of records in our dataset\n",
        "#\n",
        "print('ranking = ',ranking.shape)\n",
        "print('results = ',results.shape)"
      ],
      "execution_count": 4,
      "outputs": [
        {
          "output_type": "stream",
          "name": "stdout",
          "text": [
            "ranking =  (57793, 16)\n",
            "results =  (40839, 9)\n"
          ]
        }
      ]
    },
    {
      "cell_type": "code",
      "metadata": {
        "id": "xHhTw5eKWr0n",
        "colab": {
          "base_uri": "https://localhost:8080/"
        },
        "outputId": "82a1db30-786b-4aca-dcc8-6d8bf6d104aa"
      },
      "source": [
        "# Previewing the top of our datasets\n",
        "print('results')\n",
        "print('*'*100)\n",
        "print(results.head())\n",
        "print('*'*100)\n",
        "print('ranking')\n",
        "print('*'*100)\n",
        "print(ranking.head())"
      ],
      "execution_count": 5,
      "outputs": [
        {
          "output_type": "stream",
          "name": "stdout",
          "text": [
            "results\n",
            "****************************************************************************************************\n",
            "         date home_team away_team  home_score  away_score tournament     city  \\\n",
            "0  1872-11-30  Scotland   England           0           0   Friendly  Glasgow   \n",
            "1  1873-03-08   England  Scotland           4           2   Friendly   London   \n",
            "2  1874-03-07  Scotland   England           2           1   Friendly  Glasgow   \n",
            "3  1875-03-06   England  Scotland           2           2   Friendly   London   \n",
            "4  1876-03-04  Scotland   England           3           0   Friendly  Glasgow   \n",
            "\n",
            "    country  neutral  \n",
            "0  Scotland    False  \n",
            "1   England    False  \n",
            "2  Scotland    False  \n",
            "3   England    False  \n",
            "4  Scotland    False  \n",
            "****************************************************************************************************\n",
            "ranking\n",
            "****************************************************************************************************\n",
            "   rank country_full country_abrv  total_points  previous_points  rank_change  \\\n",
            "0     1      Germany          GER           0.0               57            0   \n",
            "1     2        Italy          ITA           0.0               57            0   \n",
            "2     3  Switzerland          SUI           0.0               50            9   \n",
            "3     4       Sweden          SWE           0.0               55            0   \n",
            "4     5    Argentina          ARG           0.0               51            5   \n",
            "\n",
            "   cur_year_avg  cur_year_avg_weighted  last_year_avg  last_year_avg_weighted  \\\n",
            "0           0.0                    0.0            0.0                     0.0   \n",
            "1           0.0                    0.0            0.0                     0.0   \n",
            "2           0.0                    0.0            0.0                     0.0   \n",
            "3           0.0                    0.0            0.0                     0.0   \n",
            "4           0.0                    0.0            0.0                     0.0   \n",
            "\n",
            "   two_year_ago_avg  two_year_ago_weighted  three_year_ago_avg  \\\n",
            "0               0.0                    0.0                 0.0   \n",
            "1               0.0                    0.0                 0.0   \n",
            "2               0.0                    0.0                 0.0   \n",
            "3               0.0                    0.0                 0.0   \n",
            "4               0.0                    0.0                 0.0   \n",
            "\n",
            "   three_year_ago_weighted confederation   rank_date  \n",
            "0                      0.0          UEFA  1993-08-08  \n",
            "1                      0.0          UEFA  1993-08-08  \n",
            "2                      0.0          UEFA  1993-08-08  \n",
            "3                      0.0          UEFA  1993-08-08  \n",
            "4                      0.0      CONMEBOL  1993-08-08  \n"
          ]
        }
      ]
    },
    {
      "cell_type": "code",
      "metadata": {
        "id": "e9AzGcZFrIIr",
        "colab": {
          "base_uri": "https://localhost:8080/"
        },
        "outputId": "360ed54a-350d-4154-db95-e70b4154b77d"
      },
      "source": [
        "# Previewing the bottom of our dataset\n",
        "# \n",
        "print('results')\n",
        "print('*'*100)\n",
        "print(results.tail())\n",
        "print('*'*100)\n",
        "print('ranking')\n",
        "print('*'*100)\n",
        "print(ranking.tail())"
      ],
      "execution_count": 6,
      "outputs": [
        {
          "output_type": "stream",
          "name": "stdout",
          "text": [
            "results\n",
            "****************************************************************************************************\n",
            "             date         home_team        away_team  home_score  away_score  \\\n",
            "40834  2019-07-18    American Samoa           Tahiti           8           1   \n",
            "40835  2019-07-18              Fiji  Solomon Islands           4           4   \n",
            "40836  2019-07-19           Senegal          Algeria           0           1   \n",
            "40837  2019-07-19        Tajikistan      North Korea           0           1   \n",
            "40838  2019-07-20  Papua New Guinea             Fiji           1           1   \n",
            "\n",
            "                   tournament       city country  neutral  \n",
            "40834           Pacific Games       Apia   Samoa     True  \n",
            "40835           Pacific Games       Apia   Samoa     True  \n",
            "40836  African Cup of Nations      Cairo   Egypt     True  \n",
            "40837    Intercontinental Cup  Ahmedabad   India     True  \n",
            "40838           Pacific Games       Apia   Samoa     True  \n",
            "****************************************************************************************************\n",
            "ranking\n",
            "****************************************************************************************************\n",
            "       rank country_full country_abrv  total_points  previous_points  \\\n",
            "57788   206     Anguilla          AIA           0.0                0   \n",
            "57789   206      Bahamas          BAH           0.0                0   \n",
            "57790   206      Eritrea          ERI           0.0                0   \n",
            "57791   206      Somalia          SOM           0.0                0   \n",
            "57792   206        Tonga          TGA           0.0                0   \n",
            "\n",
            "       rank_change  cur_year_avg  cur_year_avg_weighted  last_year_avg  \\\n",
            "57788            1           0.0                    0.0            0.0   \n",
            "57789            1           0.0                    0.0            0.0   \n",
            "57790            1           0.0                    0.0            0.0   \n",
            "57791            1           0.0                    0.0            0.0   \n",
            "57792            1           0.0                    0.0            0.0   \n",
            "\n",
            "       last_year_avg_weighted  two_year_ago_avg  two_year_ago_weighted  \\\n",
            "57788                     0.0               0.0                    0.0   \n",
            "57789                     0.0               0.0                    0.0   \n",
            "57790                     0.0               0.0                    0.0   \n",
            "57791                     0.0               0.0                    0.0   \n",
            "57792                     0.0               0.0                    0.0   \n",
            "\n",
            "       three_year_ago_avg  three_year_ago_weighted confederation   rank_date  \n",
            "57788                 0.0                      0.0      CONCACAF  2018-06-07  \n",
            "57789                 0.0                      0.0      CONCACAF  2018-06-07  \n",
            "57790                 0.0                      0.0           CAF  2018-06-07  \n",
            "57791                 0.0                      0.0           CAF  2018-06-07  \n",
            "57792                 0.0                      0.0           OFC  2018-06-07  \n"
          ]
        }
      ]
    },
    {
      "cell_type": "code",
      "metadata": {
        "id": "n8-dW4sQWzbc",
        "colab": {
          "base_uri": "https://localhost:8080/"
        },
        "outputId": "ade71f69-92a2-417c-e4b9-7c0f9e4affe4"
      },
      "source": [
        "# Checking whether each column has an appropriate datatype\n",
        "#\n",
        "print('ranking :',ranking.dtypes)\n",
        "print('*'*100)\n",
        "print('results :',results.dtypes)"
      ],
      "execution_count": 7,
      "outputs": [
        {
          "output_type": "stream",
          "name": "stdout",
          "text": [
            "ranking : rank                         int64\n",
            "country_full                object\n",
            "country_abrv                object\n",
            "total_points               float64\n",
            "previous_points              int64\n",
            "rank_change                  int64\n",
            "cur_year_avg               float64\n",
            "cur_year_avg_weighted      float64\n",
            "last_year_avg              float64\n",
            "last_year_avg_weighted     float64\n",
            "two_year_ago_avg           float64\n",
            "two_year_ago_weighted      float64\n",
            "three_year_ago_avg         float64\n",
            "three_year_ago_weighted    float64\n",
            "confederation               object\n",
            "rank_date                   object\n",
            "dtype: object\n",
            "****************************************************************************************************\n",
            "results : date          object\n",
            "home_team     object\n",
            "away_team     object\n",
            "home_score     int64\n",
            "away_score     int64\n",
            "tournament    object\n",
            "city          object\n",
            "country       object\n",
            "neutral         bool\n",
            "dtype: object\n"
          ]
        }
      ]
    },
    {
      "cell_type": "markdown",
      "metadata": {
        "id": "FlBMxEDBUc9B"
      },
      "source": [
        "## 5. Tidying the Dataset"
      ]
    },
    {
      "cell_type": "code",
      "metadata": {
        "id": "5o_bQcT5W3Wz",
        "colab": {
          "base_uri": "https://localhost:8080/",
          "height": 268
        },
        "outputId": "9c345c3b-606d-40cd-f885-6d396f5f5591"
      },
      "source": [
        "# Checking for Outliers\n",
        "#\n",
        "ranking.boxplot();"
      ],
      "execution_count": 8,
      "outputs": [
        {
          "output_type": "display_data",
          "data": {
            "text/plain": [
              "<Figure size 432x288 with 1 Axes>"
            ],
            "image/png": "[encoded data removed]"
          },
          "metadata": {
            "needs_background": "light"
          }
        }
      ]
    },
    {
      "cell_type": "code",
      "source": [
        "results.boxplot();"
      ],
      "metadata": {
        "colab": {
          "base_uri": "https://localhost:8080/",
          "height": 266
        },
        "id": "t__9Q-fN0Ik4",
        "outputId": "8c9e3939-c4a4-4888-a9e0-a8becf37e083"
      },
      "execution_count": 9,
      "outputs": [
        {
          "output_type": "display_data",
          "data": {
            "text/plain": [
              "<Figure size 432x288 with 1 Axes>"
            ],
            "image/png": "[encoded data removed]"
          },
          "metadata": {
            "needs_background": "light"
          }
        }
      ]
    },
    {
      "cell_type": "code",
      "source": [
        "# There seems to be a number of outliers, but for this analysis, they will not be dropped since they are valid observations\n",
        "# and their removal might distort the correct prediction."
      ],
      "metadata": {
        "id": "Q9zxNAXR0cwL"
      },
      "execution_count": 10,
      "outputs": []
    },
    {
      "cell_type": "code",
      "metadata": {
        "id": "PWlukLKUvFQN",
        "colab": {
          "base_uri": "https://localhost:8080/"
        },
        "outputId": "382d0601-ece4-462f-eff4-67ac8510a11e"
      },
      "source": [
        "# Checking for Anomalies\n",
        "#\n",
        "print('ranking:',ranking.duplicated().sum())\n",
        "print('results:',results.duplicated().sum())"
      ],
      "execution_count": 11,
      "outputs": [
        {
          "output_type": "stream",
          "name": "stdout",
          "text": [
            "ranking: 37\n",
            "results: 0\n"
          ]
        }
      ]
    },
    {
      "cell_type": "code",
      "source": [
        "ranking = ranking.drop_duplicates()\n"
      ],
      "metadata": {
        "id": "mtDT34favSRS"
      },
      "execution_count": 12,
      "outputs": []
    },
    {
      "cell_type": "code",
      "metadata": {
        "id": "PvCYb6dgW4yh",
        "colab": {
          "base_uri": "https://localhost:8080/"
        },
        "outputId": "9c614f31-0548-4efd-d35d-aa0e44fe8628"
      },
      "source": [
        "# Identifying the Missing Data\n",
        "#\n",
        "print('ranking:',ranking.isnull().sum())\n",
        "print('*'*100)\n",
        "print('results:',results.isnull().sum())"
      ],
      "execution_count": 13,
      "outputs": [
        {
          "output_type": "stream",
          "name": "stdout",
          "text": [
            "ranking: rank                       0\n",
            "country_full               0\n",
            "country_abrv               0\n",
            "total_points               0\n",
            "previous_points            0\n",
            "rank_change                0\n",
            "cur_year_avg               0\n",
            "cur_year_avg_weighted      0\n",
            "last_year_avg              0\n",
            "last_year_avg_weighted     0\n",
            "two_year_ago_avg           0\n",
            "two_year_ago_weighted      0\n",
            "three_year_ago_avg         0\n",
            "three_year_ago_weighted    0\n",
            "confederation              0\n",
            "rank_date                  0\n",
            "dtype: int64\n",
            "****************************************************************************************************\n",
            "results: date          0\n",
            "home_team     0\n",
            "away_team     0\n",
            "home_score    0\n",
            "away_score    0\n",
            "tournament    0\n",
            "city          0\n",
            "country       0\n",
            "neutral       0\n",
            "dtype: int64\n"
          ]
        }
      ]
    },
    {
      "cell_type": "code",
      "metadata": {
        "id": "MpsDGKZHsf_W"
      },
      "source": [
        "# Dealing with the Missing Data\n",
        "# There is no missing data."
      ],
      "execution_count": 14,
      "outputs": []
    },
    {
      "cell_type": "code",
      "metadata": {
        "id": "D-4I__6Os4C5"
      },
      "source": [
        "# More data cleaning procedures\n",
        "# droppig unnecessary columns\n",
        "to_drop = ['country_abrv', 'rank_date']\n",
        "ranking.drop(to_drop, axis=1, inplace=True)"
      ],
      "execution_count": 15,
      "outputs": []
    },
    {
      "cell_type": "code",
      "source": [
        "ranking.columns = ['rank', 'country', 'total_points', 'previous_points', 'rank_change', 'cur_year_avg', 'cur_year_avg_weighted', 'last_year_avg', 'last_year_avg_weighted', 'two_year_ago_avg', 'two_year_ago_weighted', 'three_year_ago_avg', 'three_year_ago_weighted', 'confederation']\n",
        "ranking.head()"
      ],
      "metadata": {
        "colab": {
          "base_uri": "https://localhost:8080/",
          "height": 270
        },
        "id": "3EsWNOeT8FBh",
        "outputId": "47152eb8-b550-4c32-a195-fa896d3d7356"
      },
      "execution_count": 16,
      "outputs": [
        {
          "output_type": "execute_result",
          "data": {
            "text/plain": [
              "   rank      country  total_points  previous_points  rank_change  \\\n",
              "0     1      Germany           0.0               57            0   \n",
              "1     2        Italy           0.0               57            0   \n",
              "2     3  Switzerland           0.0               50            9   \n",
              "3     4       Sweden           0.0               55            0   \n",
              "4     5    Argentina           0.0               51            5   \n",
              "\n",
              "   cur_year_avg  cur_year_avg_weighted  last_year_avg  last_year_avg_weighted  \\\n",
              "0           0.0                    0.0            0.0                     0.0   \n",
              "1           0.0                    0.0            0.0                     0.0   \n",
              "2           0.0                    0.0            0.0                     0.0   \n",
              "3           0.0                    0.0            0.0                     0.0   \n",
              "4           0.0                    0.0            0.0                     0.0   \n",
              "\n",
              "   two_year_ago_avg  two_year_ago_weighted  three_year_ago_avg  \\\n",
              "0               0.0                    0.0                 0.0   \n",
              "1               0.0                    0.0                 0.0   \n",
              "2               0.0                    0.0                 0.0   \n",
              "3               0.0                    0.0                 0.0   \n",
              "4               0.0                    0.0                 0.0   \n",
              "\n",
              "   three_year_ago_weighted confederation  \n",
              "0                      0.0          UEFA  \n",
              "1                      0.0          UEFA  \n",
              "2                      0.0          UEFA  \n",
              "3                      0.0          UEFA  \n",
              "4                      0.0      CONMEBOL  "
            ],
            "text/html": [
              "\n",
              "  <div id=\"df-0e580424-2ac1-4747-aa9d-7ea6bc2a8f22\">\n",
              "    <div class=\"colab-df-container\">\n",
              "      <div>\n",
              "<style scoped>\n",
              "    .dataframe tbody tr th:only-of-type {\n",
              "        vertical-align: middle;\n",
              "    }\n",
              "\n",
              "    .dataframe tbody tr th {\n",
              "        vertical-align: top;\n",
              "    }\n",
              "\n",
              "    .dataframe thead th {\n",
              "        text-align: right;\n",
              "    }\n",
              "</style>\n",
              "<table border=\"1\" class=\"dataframe\">\n",
              "  <thead>\n",
              "    <tr style=\"text-align: right;\">\n",
              "      <th></th>\n",
              "      <th>rank</th>\n",
              "      <th>country</th>\n",
              "      <th>total_points</th>\n",
              "      <th>previous_points</th>\n",
              "      <th>rank_change</th>\n",
              "      <th>cur_year_avg</th>\n",
              "      <th>cur_year_avg_weighted</th>\n",
              "      <th>last_year_avg</th>\n",
              "      <th>last_year_avg_weighted</th>\n",
              "      <th>two_year_ago_avg</th>\n",
              "      <th>two_year_ago_weighted</th>\n",
              "      <th>three_year_ago_avg</th>\n",
              "      <th>three_year_ago_weighted</th>\n",
              "      <th>confederation</th>\n",
              "    </tr>\n",
              "  </thead>\n",
              "  <tbody>\n",
              "    <tr>\n",
              "      <th>0</th>\n",
              "      <td>1</td>\n",
              "      <td>Germany</td>\n",
              "      <td>0.0</td>\n",
              "      <td>57</td>\n",
              "      <td>0</td>\n",
              "      <td>0.0</td>\n",
              "      <td>0.0</td>\n",
              "      <td>0.0</td>\n",
              "      <td>0.0</td>\n",
              "      <td>0.0</td>\n",
              "      <td>0.0</td>\n",
              "      <td>0.0</td>\n",
              "      <td>0.0</td>\n",
              "      <td>UEFA</td>\n",
              "    </tr>\n",
              "    <tr>\n",
              "      <th>1</th>\n",
              "      <td>2</td>\n",
              "      <td>Italy</td>\n",
              "      <td>0.0</td>\n",
              "      <td>57</td>\n",
              "      <td>0</td>\n",
              "      <td>0.0</td>\n",
              "      <td>0.0</td>\n",
              "      <td>0.0</td>\n",
              "      <td>0.0</td>\n",
              "      <td>0.0</td>\n",
              "      <td>0.0</td>\n",
              "      <td>0.0</td>\n",
              "      <td>0.0</td>\n",
              "      <td>UEFA</td>\n",
              "    </tr>\n",
              "    <tr>\n",
              "      <th>2</th>\n",
              "      <td>3</td>\n",
              "      <td>Switzerland</td>\n",
              "      <td>0.0</td>\n",
              "      <td>50</td>\n",
              "      <td>9</td>\n",
              "      <td>0.0</td>\n",
              "      <td>0.0</td>\n",
              "      <td>0.0</td>\n",
              "      <td>0.0</td>\n",
              "      <td>0.0</td>\n",
              "      <td>0.0</td>\n",
              "      <td>0.0</td>\n",
              "      <td>0.0</td>\n",
              "      <td>UEFA</td>\n",
              "    </tr>\n",
              "    <tr>\n",
              "      <th>3</th>\n",
              "      <td>4</td>\n",
              "      <td>Sweden</td>\n",
              "      <td>0.0</td>\n",
              "      <td>55</td>\n",
              "      <td>0</td>\n",
              "      <td>0.0</td>\n",
              "      <td>0.0</td>\n",
              "      <td>0.0</td>\n",
              "      <td>0.0</td>\n",
              "      <td>0.0</td>\n",
              "      <td>0.0</td>\n",
              "      <td>0.0</td>\n",
              "      <td>0.0</td>\n",
              "      <td>UEFA</td>\n",
              "    </tr>\n",
              "    <tr>\n",
              "      <th>4</th>\n",
              "      <td>5</td>\n",
              "      <td>Argentina</td>\n",
              "      <td>0.0</td>\n",
              "      <td>51</td>\n",
              "      <td>5</td>\n",
              "      <td>0.0</td>\n",
              "      <td>0.0</td>\n",
              "      <td>0.0</td>\n",
              "      <td>0.0</td>\n",
              "      <td>0.0</td>\n",
              "      <td>0.0</td>\n",
              "      <td>0.0</td>\n",
              "      <td>0.0</td>\n",
              "      <td>CONMEBOL</td>\n",
              "    </tr>\n",
              "  </tbody>\n",
              "</table>\n",
              "</div>\n",
              "      <button class=\"colab-df-convert\" onclick=\"convertToInteractive('df-0e580424-2ac1-4747-aa9d-7ea6bc2a8f22')\"\n",
              "              title=\"Convert this dataframe to an interactive table.\"\n",
              "              style=\"display:none;\">\n",
              "        \n",
              "  <svg xmlns=\"http://www.w3.org/2000/svg\" height=\"24px\"viewBox=\"0 0 24 24\"\n",
              "       width=\"24px\">\n",
              "    <path d=\"M0 0h24v24H0V0z\" fill=\"none\"/>\n",
              "    <path d=\"M18.56 5.44l.94 2.06.94-2.06 2.06-.94-2.06-.94-.94-2.06-.94 2.06-2.06.94zm-11 1L8.5 8.5l.94-2.06 2.06-.94-2.06-.94L8.5 2.5l-.94 2.06-2.06.94zm10 10l.94 2.06.94-2.06 2.06-.94-2.06-.94-.94-2.06-.94 2.06-2.06.94z\"/><path d=\"M17.41 7.96l-1.37-1.37c-.4-.4-.92-.59-1.43-.59-.52 0-1.04.2-1.43.59L10.3 9.45l-7.72 7.72c-.78.78-.78 2.05 0 2.83L4 21.41c.39.39.9.59 1.41.59.51 0 1.02-.2 1.41-.59l7.78-7.78 2.81-2.81c.8-.78.8-2.07 0-2.86zM5.41 20L4 18.59l7.72-7.72 1.47 1.35L5.41 20z\"/>\n",
              "  </svg>\n",
              "      </button>\n",
              "      \n",
              "  <style>\n",
              "    .colab-df-container {\n",
              "      display:flex;\n",
              "      flex-wrap:wrap;\n",
              "      gap: 12px;\n",
              "    }\n",
              "\n",
              "    .colab-df-convert {\n",
              "      background-color: #E8F0FE;\n",
              "      border: none;\n",
              "      border-radius: 50%;\n",
              "      cursor: pointer;\n",
              "      display: none;\n",
              "      fill: #1967D2;\n",
              "      height: 32px;\n",
              "      padding: 0 0 0 0;\n",
              "      width: 32px;\n",
              "    }\n",
              "\n",
              "    .colab-df-convert:hover {\n",
              "      background-color: #E2EBFA;\n",
              "      box-shadow: 0px 1px 2px rgba(60, 64, 67, 0.3), 0px 1px 3px 1px rgba(60, 64, 67, 0.15);\n",
              "      fill: #174EA6;\n",
              "    }\n",
              "\n",
              "    [theme=dark] .colab-df-convert {\n",
              "      background-color: #3B4455;\n",
              "      fill: #D2E3FC;\n",
              "    }\n",
              "\n",
              "    [theme=dark] .colab-df-convert:hover {\n",
              "      background-color: #434B5C;\n",
              "      box-shadow: 0px 1px 3px 1px rgba(0, 0, 0, 0.15);\n",
              "      filter: drop-shadow(0px 1px 2px rgba(0, 0, 0, 0.3));\n",
              "      fill: #FFFFFF;\n",
              "    }\n",
              "  </style>\n",
              "\n",
              "      <script>\n",
              "        const buttonEl =\n",
              "          document.querySelector('#df-0e580424-2ac1-4747-aa9d-7ea6bc2a8f22 button.colab-df-convert');\n",
              "        buttonEl.style.display =\n",
              "          google.colab.kernel.accessAllowed ? 'block' : 'none';\n",
              "\n",
              "        async function convertToInteractive(key) {\n",
              "          const element = document.querySelector('#df-0e580424-2ac1-4747-aa9d-7ea6bc2a8f22');\n",
              "          const dataTable =\n",
              "            await google.colab.kernel.invokeFunction('convertToInteractive',\n",
              "                                                     [key], {});\n",
              "          if (!dataTable) return;\n",
              "\n",
              "          const docLinkHtml = 'Like what you see? Visit the ' +\n",
              "            '<a target=\"_blank\" href=https://colab.research.google.com/notebooks/data_table.ipynb>data table notebook</a>'\n",
              "            + ' to learn more about interactive tables.';\n",
              "          element.innerHTML = '';\n",
              "          dataTable['output_type'] = 'display_data';\n",
              "          await google.colab.output.renderOutput(dataTable, element);\n",
              "          const docLink = document.createElement('div');\n",
              "          docLink.innerHTML = docLinkHtml;\n",
              "          element.appendChild(docLink);\n",
              "        }\n",
              "      </script>\n",
              "    </div>\n",
              "  </div>\n",
              "  "
            ]
          },
          "metadata": {},
          "execution_count": 16
        }
      ]
    },
    {
      "cell_type": "code",
      "source": [
        "# merging datasets\n",
        "data = ranking.merge(results, how = 'left',on = 'country')\n",
        "data.head()"
      ],
      "metadata": {
        "colab": {
          "base_uri": "https://localhost:8080/",
          "height": 386
        },
        "id": "aZ-ngIhg43O3",
        "outputId": "97e6620e-2197-4a8c-8ccb-8e8a81dd973f"
      },
      "execution_count": 17,
      "outputs": [
        {
          "output_type": "execute_result",
          "data": {
            "text/plain": [
              "   rank  country  total_points  previous_points  rank_change  cur_year_avg  \\\n",
              "0     1  Germany           0.0               57            0           0.0   \n",
              "1     1  Germany           0.0               57            0           0.0   \n",
              "2     1  Germany           0.0               57            0           0.0   \n",
              "3     1  Germany           0.0               57            0           0.0   \n",
              "4     1  Germany           0.0               57            0           0.0   \n",
              "\n",
              "   cur_year_avg_weighted  last_year_avg  last_year_avg_weighted  \\\n",
              "0                    0.0            0.0                     0.0   \n",
              "1                    0.0            0.0                     0.0   \n",
              "2                    0.0            0.0                     0.0   \n",
              "3                    0.0            0.0                     0.0   \n",
              "4                    0.0            0.0                     0.0   \n",
              "\n",
              "   two_year_ago_avg  ...  three_year_ago_weighted  confederation        date  \\\n",
              "0               0.0  ...                      0.0           UEFA  1909-04-04   \n",
              "1               0.0  ...                      0.0           UEFA  1910-05-16   \n",
              "2               0.0  ...                      0.0           UEFA  1910-10-16   \n",
              "3               0.0  ...                      0.0           UEFA  1911-03-26   \n",
              "4               0.0  ...                      0.0           UEFA  1911-10-09   \n",
              "\n",
              "  home_team    away_team home_score away_score  tournament       city neutral  \n",
              "0   Germany  Switzerland        1.0        0.0    Friendly  Karlsruhe   False  \n",
              "1   Germany      Belgium        0.0        3.0    Friendly   Duisburg   False  \n",
              "2   Germany  Netherlands        1.0        2.0    Friendly      Kleve   False  \n",
              "3   Germany  Switzerland        6.0        2.0    Friendly  Stuttgart   False  \n",
              "4   Germany      Austria        1.0        2.0    Friendly    Dresden   False  \n",
              "\n",
              "[5 rows x 22 columns]"
            ],
            "text/html": [
              "\n",
              "  <div id=\"df-f9637426-840a-45ea-b3ac-51c7641e1cb4\">\n",
              "    <div class=\"colab-df-container\">\n",
              "      <div>\n",
              "<style scoped>\n",
              "    .dataframe tbody tr th:only-of-type {\n",
              "        vertical-align: middle;\n",
              "    }\n",
              "\n",
              "    .dataframe tbody tr th {\n",
              "        vertical-align: top;\n",
              "    }\n",
              "\n",
              "    .dataframe thead th {\n",
              "        text-align: right;\n",
              "    }\n",
              "</style>\n",
              "<table border=\"1\" class=\"dataframe\">\n",
              "  <thead>\n",
              "    <tr style=\"text-align: right;\">\n",
              "      <th></th>\n",
              "      <th>rank</th>\n",
              "      <th>country</th>\n",
              "      <th>total_points</th>\n",
              "      <th>previous_points</th>\n",
              "      <th>rank_change</th>\n",
              "      <th>cur_year_avg</th>\n",
              "      <th>cur_year_avg_weighted</th>\n",
              "      <th>last_year_avg</th>\n",
              "      <th>last_year_avg_weighted</th>\n",
              "      <th>two_year_ago_avg</th>\n",
              "      <th>...</th>\n",
              "      <th>three_year_ago_weighted</th>\n",
              "      <th>confederation</th>\n",
              "      <th>date</th>\n",
              "      <th>home_team</th>\n",
              "      <th>away_team</th>\n",
              "      <th>home_score</th>\n",
              "      <th>away_score</th>\n",
              "      <th>tournament</th>\n",
              "      <th>city</th>\n",
              "      <th>neutral</th>\n",
              "    </tr>\n",
              "  </thead>\n",
              "  <tbody>\n",
              "    <tr>\n",
              "      <th>0</th>\n",
              "      <td>1</td>\n",
              "      <td>Germany</td>\n",
              "      <td>0.0</td>\n",
              "      <td>57</td>\n",
              "      <td>0</td>\n",
              "      <td>0.0</td>\n",
              "      <td>0.0</td>\n",
              "      <td>0.0</td>\n",
              "      <td>0.0</td>\n",
              "      <td>0.0</td>\n",
              "      <td>...</td>\n",
              "      <td>0.0</td>\n",
              "      <td>UEFA</td>\n",
              "      <td>1909-04-04</td>\n",
              "      <td>Germany</td>\n",
              "      <td>Switzerland</td>\n",
              "      <td>1.0</td>\n",
              "      <td>0.0</td>\n",
              "      <td>Friendly</td>\n",
              "      <td>Karlsruhe</td>\n",
              "      <td>False</td>\n",
              "    </tr>\n",
              "    <tr>\n",
              "      <th>1</th>\n",
              "      <td>1</td>\n",
              "      <td>Germany</td>\n",
              "      <td>0.0</td>\n",
              "      <td>57</td>\n",
              "      <td>0</td>\n",
              "      <td>0.0</td>\n",
              "      <td>0.0</td>\n",
              "      <td>0.0</td>\n",
              "      <td>0.0</td>\n",
              "      <td>0.0</td>\n",
              "      <td>...</td>\n",
              "      <td>0.0</td>\n",
              "      <td>UEFA</td>\n",
              "      <td>1910-05-16</td>\n",
              "      <td>Germany</td>\n",
              "      <td>Belgium</td>\n",
              "      <td>0.0</td>\n",
              "      <td>3.0</td>\n",
              "      <td>Friendly</td>\n",
              "      <td>Duisburg</td>\n",
              "      <td>False</td>\n",
              "    </tr>\n",
              "    <tr>\n",
              "      <th>2</th>\n",
              "      <td>1</td>\n",
              "      <td>Germany</td>\n",
              "      <td>0.0</td>\n",
              "      <td>57</td>\n",
              "      <td>0</td>\n",
              "      <td>0.0</td>\n",
              "      <td>0.0</td>\n",
              "      <td>0.0</td>\n",
              "      <td>0.0</td>\n",
              "      <td>0.0</td>\n",
              "      <td>...</td>\n",
              "      <td>0.0</td>\n",
              "      <td>UEFA</td>\n",
              "      <td>1910-10-16</td>\n",
              "      <td>Germany</td>\n",
              "      <td>Netherlands</td>\n",
              "      <td>1.0</td>\n",
              "      <td>2.0</td>\n",
              "      <td>Friendly</td>\n",
              "      <td>Kleve</td>\n",
              "      <td>False</td>\n",
              "    </tr>\n",
              "    <tr>\n",
              "      <th>3</th>\n",
              "      <td>1</td>\n",
              "      <td>Germany</td>\n",
              "      <td>0.0</td>\n",
              "      <td>57</td>\n",
              "      <td>0</td>\n",
              "      <td>0.0</td>\n",
              "      <td>0.0</td>\n",
              "      <td>0.0</td>\n",
              "      <td>0.0</td>\n",
              "      <td>0.0</td>\n",
              "      <td>...</td>\n",
              "      <td>0.0</td>\n",
              "      <td>UEFA</td>\n",
              "      <td>1911-03-26</td>\n",
              "      <td>Germany</td>\n",
              "      <td>Switzerland</td>\n",
              "      <td>6.0</td>\n",
              "      <td>2.0</td>\n",
              "      <td>Friendly</td>\n",
              "      <td>Stuttgart</td>\n",
              "      <td>False</td>\n",
              "    </tr>\n",
              "    <tr>\n",
              "      <th>4</th>\n",
              "      <td>1</td>\n",
              "      <td>Germany</td>\n",
              "      <td>0.0</td>\n",
              "      <td>57</td>\n",
              "      <td>0</td>\n",
              "      <td>0.0</td>\n",
              "      <td>0.0</td>\n",
              "      <td>0.0</td>\n",
              "      <td>0.0</td>\n",
              "      <td>0.0</td>\n",
              "      <td>...</td>\n",
              "      <td>0.0</td>\n",
              "      <td>UEFA</td>\n",
              "      <td>1911-10-09</td>\n",
              "      <td>Germany</td>\n",
              "      <td>Austria</td>\n",
              "      <td>1.0</td>\n",
              "      <td>2.0</td>\n",
              "      <td>Friendly</td>\n",
              "      <td>Dresden</td>\n",
              "      <td>False</td>\n",
              "    </tr>\n",
              "  </tbody>\n",
              "</table>\n",
              "<p>5 rows × 22 columns</p>\n",
              "</div>\n",
              "      <button class=\"colab-df-convert\" onclick=\"convertToInteractive('df-f9637426-840a-45ea-b3ac-51c7641e1cb4')\"\n",
              "              title=\"Convert this dataframe to an interactive table.\"\n",
              "              style=\"display:none;\">\n",
              "        \n",
              "  <svg xmlns=\"http://www.w3.org/2000/svg\" height=\"24px\"viewBox=\"0 0 24 24\"\n",
              "       width=\"24px\">\n",
              "    <path d=\"M0 0h24v24H0V0z\" fill=\"none\"/>\n",
              "    <path d=\"M18.56 5.44l.94 2.06.94-2.06 2.06-.94-2.06-.94-.94-2.06-.94 2.06-2.06.94zm-11 1L8.5 8.5l.94-2.06 2.06-.94-2.06-.94L8.5 2.5l-.94 2.06-2.06.94zm10 10l.94 2.06.94-2.06 2.06-.94-2.06-.94-.94-2.06-.94 2.06-2.06.94z\"/><path d=\"M17.41 7.96l-1.37-1.37c-.4-.4-.92-.59-1.43-.59-.52 0-1.04.2-1.43.59L10.3 9.45l-7.72 7.72c-.78.78-.78 2.05 0 2.83L4 21.41c.39.39.9.59 1.41.59.51 0 1.02-.2 1.41-.59l7.78-7.78 2.81-2.81c.8-.78.8-2.07 0-2.86zM5.41 20L4 18.59l7.72-7.72 1.47 1.35L5.41 20z\"/>\n",
              "  </svg>\n",
              "      </button>\n",
              "      \n",
              "  <style>\n",
              "    .colab-df-container {\n",
              "      display:flex;\n",
              "      flex-wrap:wrap;\n",
              "      gap: 12px;\n",
              "    }\n",
              "\n",
              "    .colab-df-convert {\n",
              "      background-color: #E8F0FE;\n",
              "      border: none;\n",
              "      border-radius: 50%;\n",
              "      cursor: pointer;\n",
              "      display: none;\n",
              "      fill: #1967D2;\n",
              "      height: 32px;\n",
              "      padding: 0 0 0 0;\n",
              "      width: 32px;\n",
              "    }\n",
              "\n",
              "    .colab-df-convert:hover {\n",
              "      background-color: #E2EBFA;\n",
              "      box-shadow: 0px 1px 2px rgba(60, 64, 67, 0.3), 0px 1px 3px 1px rgba(60, 64, 67, 0.15);\n",
              "      fill: #174EA6;\n",
              "    }\n",
              "\n",
              "    [theme=dark] .colab-df-convert {\n",
              "      background-color: #3B4455;\n",
              "      fill: #D2E3FC;\n",
              "    }\n",
              "\n",
              "    [theme=dark] .colab-df-convert:hover {\n",
              "      background-color: #434B5C;\n",
              "      box-shadow: 0px 1px 3px 1px rgba(0, 0, 0, 0.15);\n",
              "      filter: drop-shadow(0px 1px 2px rgba(0, 0, 0, 0.3));\n",
              "      fill: #FFFFFF;\n",
              "    }\n",
              "  </style>\n",
              "\n",
              "      <script>\n",
              "        const buttonEl =\n",
              "          document.querySelector('#df-f9637426-840a-45ea-b3ac-51c7641e1cb4 button.colab-df-convert');\n",
              "        buttonEl.style.display =\n",
              "          google.colab.kernel.accessAllowed ? 'block' : 'none';\n",
              "\n",
              "        async function convertToInteractive(key) {\n",
              "          const element = document.querySelector('#df-f9637426-840a-45ea-b3ac-51c7641e1cb4');\n",
              "          const dataTable =\n",
              "            await google.colab.kernel.invokeFunction('convertToInteractive',\n",
              "                                                     [key], {});\n",
              "          if (!dataTable) return;\n",
              "\n",
              "          const docLinkHtml = 'Like what you see? Visit the ' +\n",
              "            '<a target=\"_blank\" href=https://colab.research.google.com/notebooks/data_table.ipynb>data table notebook</a>'\n",
              "            + ' to learn more about interactive tables.';\n",
              "          element.innerHTML = '';\n",
              "          dataTable['output_type'] = 'display_data';\n",
              "          await google.colab.output.renderOutput(dataTable, element);\n",
              "          const docLink = document.createElement('div');\n",
              "          docLink.innerHTML = docLinkHtml;\n",
              "          element.appendChild(docLink);\n",
              "        }\n",
              "      </script>\n",
              "    </div>\n",
              "  </div>\n",
              "  "
            ]
          },
          "metadata": {},
          "execution_count": 17
        }
      ]
    },
    {
      "cell_type": "code",
      "source": [
        "data = data.drop(columns=['date', 'city', 'neutral'])\n"
      ],
      "metadata": {
        "id": "5hBYMj7iSlpd"
      },
      "execution_count": 18,
      "outputs": []
    },
    {
      "cell_type": "code",
      "source": [
        "data.isnull().sum()"
      ],
      "metadata": {
        "colab": {
          "base_uri": "https://localhost:8080/"
        },
        "id": "AI6OgmWV5Pw6",
        "outputId": "cac13905-ce36-4a38-e021-ede2697c3c00"
      },
      "execution_count": 19,
      "outputs": [
        {
          "output_type": "execute_result",
          "data": {
            "text/plain": [
              "rank                          0\n",
              "country                       0\n",
              "total_points                  0\n",
              "previous_points               0\n",
              "rank_change                   0\n",
              "cur_year_avg                  0\n",
              "cur_year_avg_weighted         0\n",
              "last_year_avg                 0\n",
              "last_year_avg_weighted        0\n",
              "two_year_ago_avg              0\n",
              "two_year_ago_weighted         0\n",
              "three_year_ago_avg            0\n",
              "three_year_ago_weighted       0\n",
              "confederation                 0\n",
              "home_team                  4774\n",
              "away_team                  4774\n",
              "home_score                 4774\n",
              "away_score                 4774\n",
              "tournament                 4774\n",
              "dtype: int64"
            ]
          },
          "metadata": {},
          "execution_count": 19
        }
      ]
    },
    {
      "cell_type": "code",
      "source": [
        "data = data.dropna()"
      ],
      "metadata": {
        "id": "2l0Lac4Zrsxw"
      },
      "execution_count": 20,
      "outputs": []
    },
    {
      "cell_type": "code",
      "source": [
        "data.duplicated().sum()"
      ],
      "metadata": {
        "colab": {
          "base_uri": "https://localhost:8080/"
        },
        "id": "Vmo5JTAo5Ptw",
        "outputId": "a83d50b7-025b-4eee-f3dc-c1641cb26ed7"
      },
      "execution_count": 21,
      "outputs": [
        {
          "output_type": "execute_result",
          "data": {
            "text/plain": [
              "1245720"
            ]
          },
          "metadata": {},
          "execution_count": 21
        }
      ]
    },
    {
      "cell_type": "code",
      "source": [
        "data = data.drop_duplicates()"
      ],
      "metadata": {
        "id": "97V_uwUTrjMa"
      },
      "execution_count": 22,
      "outputs": []
    },
    {
      "cell_type": "code",
      "source": [
        "data.shape"
      ],
      "metadata": {
        "colab": {
          "base_uri": "https://localhost:8080/"
        },
        "id": "JyipYILZAL7-",
        "outputId": "ea84c23f-bab6-4e66-a0f2-601d4532eac0"
      },
      "execution_count": 23,
      "outputs": [
        {
          "output_type": "execute_result",
          "data": {
            "text/plain": [
              "(8994981, 19)"
            ]
          },
          "metadata": {},
          "execution_count": 23
        }
      ]
    },
    {
      "cell_type": "code",
      "source": [
        "# Focusing on independent features only\n",
        "\n",
        "# Removing the serial and admit chance columns, we want to focus on our independent variables only.\n",
        "independent_only = data.drop(columns=['rank', 'rank_change','cur_year_avg_weighted', 'last_year_avg_weighted', 'two_year_ago_weighted', 'three_year_ago_weighted'])\n",
        "\n",
        "# Let's display the correlations between the variables\n",
        "correlations = independent_only.corr()\n",
        "\n",
        "correlations"
      ],
      "metadata": {
        "id": "r3mg9B_WLyIJ",
        "colab": {
          "base_uri": "https://localhost:8080/",
          "height": 300
        },
        "outputId": "a2c4b2cb-17c9-4ef0-a116-cf6237b3c4a3"
      },
      "execution_count": 24,
      "outputs": [
        {
          "output_type": "execute_result",
          "data": {
            "text/plain": [
              "                    total_points  previous_points  cur_year_avg  \\\n",
              "total_points            1.000000         0.535525      0.977089   \n",
              "previous_points         0.535525         1.000000      0.526597   \n",
              "cur_year_avg            0.977089         0.526597      1.000000   \n",
              "last_year_avg           0.940651         0.504219      0.863268   \n",
              "two_year_ago_avg        0.931054         0.492587      0.875792   \n",
              "three_year_ago_avg      0.923187         0.485273      0.864727   \n",
              "home_score              0.030221         0.062654      0.028844   \n",
              "away_score             -0.021424        -0.050009     -0.019688   \n",
              "\n",
              "                    last_year_avg  two_year_ago_avg  three_year_ago_avg  \\\n",
              "total_points             0.940651          0.931054            0.923187   \n",
              "previous_points          0.504219          0.492587            0.485273   \n",
              "cur_year_avg             0.863268          0.875792            0.864727   \n",
              "last_year_avg            1.000000          0.861840            0.880630   \n",
              "two_year_ago_avg         0.861840          1.000000            0.866882   \n",
              "three_year_ago_avg       0.880630          0.866882            1.000000   \n",
              "home_score               0.028715          0.028968            0.029402   \n",
              "away_score              -0.020902         -0.021074           -0.022499   \n",
              "\n",
              "                    home_score  away_score  \n",
              "total_points          0.030221   -0.021424  \n",
              "previous_points       0.062654   -0.050009  \n",
              "cur_year_avg          0.028844   -0.019688  \n",
              "last_year_avg         0.028715   -0.020902  \n",
              "two_year_ago_avg      0.028968   -0.021074  \n",
              "three_year_ago_avg    0.029402   -0.022499  \n",
              "home_score            1.000000   -0.136154  \n",
              "away_score           -0.136154    1.000000  "
            ],
            "text/html": [
              "\n",
              "  <div id=\"df-3069a671-2cb7-4cd8-bfb6-0d51cf96bd4e\">\n",
              "    <div class=\"colab-df-container\">\n",
              "      <div>\n",
              "<style scoped>\n",
              "    .dataframe tbody tr th:only-of-type {\n",
              "        vertical-align: middle;\n",
              "    }\n",
              "\n",
              "    .dataframe tbody tr th {\n",
              "        vertical-align: top;\n",
              "    }\n",
              "\n",
              "    .dataframe thead th {\n",
              "        text-align: right;\n",
              "    }\n",
              "</style>\n",
              "<table border=\"1\" class=\"dataframe\">\n",
              "  <thead>\n",
              "    <tr style=\"text-align: right;\">\n",
              "      <th></th>\n",
              "      <th>total_points</th>\n",
              "      <th>previous_points</th>\n",
              "      <th>cur_year_avg</th>\n",
              "      <th>last_year_avg</th>\n",
              "      <th>two_year_ago_avg</th>\n",
              "      <th>three_year_ago_avg</th>\n",
              "      <th>home_score</th>\n",
              "      <th>away_score</th>\n",
              "    </tr>\n",
              "  </thead>\n",
              "  <tbody>\n",
              "    <tr>\n",
              "      <th>total_points</th>\n",
              "      <td>1.000000</td>\n",
              "      <td>0.535525</td>\n",
              "      <td>0.977089</td>\n",
              "      <td>0.940651</td>\n",
              "      <td>0.931054</td>\n",
              "      <td>0.923187</td>\n",
              "      <td>0.030221</td>\n",
              "      <td>-0.021424</td>\n",
              "    </tr>\n",
              "    <tr>\n",
              "      <th>previous_points</th>\n",
              "      <td>0.535525</td>\n",
              "      <td>1.000000</td>\n",
              "      <td>0.526597</td>\n",
              "      <td>0.504219</td>\n",
              "      <td>0.492587</td>\n",
              "      <td>0.485273</td>\n",
              "      <td>0.062654</td>\n",
              "      <td>-0.050009</td>\n",
              "    </tr>\n",
              "    <tr>\n",
              "      <th>cur_year_avg</th>\n",
              "      <td>0.977089</td>\n",
              "      <td>0.526597</td>\n",
              "      <td>1.000000</td>\n",
              "      <td>0.863268</td>\n",
              "      <td>0.875792</td>\n",
              "      <td>0.864727</td>\n",
              "      <td>0.028844</td>\n",
              "      <td>-0.019688</td>\n",
              "    </tr>\n",
              "    <tr>\n",
              "      <th>last_year_avg</th>\n",
              "      <td>0.940651</td>\n",
              "      <td>0.504219</td>\n",
              "      <td>0.863268</td>\n",
              "      <td>1.000000</td>\n",
              "      <td>0.861840</td>\n",
              "      <td>0.880630</td>\n",
              "      <td>0.028715</td>\n",
              "      <td>-0.020902</td>\n",
              "    </tr>\n",
              "    <tr>\n",
              "      <th>two_year_ago_avg</th>\n",
              "      <td>0.931054</td>\n",
              "      <td>0.492587</td>\n",
              "      <td>0.875792</td>\n",
              "      <td>0.861840</td>\n",
              "      <td>1.000000</td>\n",
              "      <td>0.866882</td>\n",
              "      <td>0.028968</td>\n",
              "      <td>-0.021074</td>\n",
              "    </tr>\n",
              "    <tr>\n",
              "      <th>three_year_ago_avg</th>\n",
              "      <td>0.923187</td>\n",
              "      <td>0.485273</td>\n",
              "      <td>0.864727</td>\n",
              "      <td>0.880630</td>\n",
              "      <td>0.866882</td>\n",
              "      <td>1.000000</td>\n",
              "      <td>0.029402</td>\n",
              "      <td>-0.022499</td>\n",
              "    </tr>\n",
              "    <tr>\n",
              "      <th>home_score</th>\n",
              "      <td>0.030221</td>\n",
              "      <td>0.062654</td>\n",
              "      <td>0.028844</td>\n",
              "      <td>0.028715</td>\n",
              "      <td>0.028968</td>\n",
              "      <td>0.029402</td>\n",
              "      <td>1.000000</td>\n",
              "      <td>-0.136154</td>\n",
              "    </tr>\n",
              "    <tr>\n",
              "      <th>away_score</th>\n",
              "      <td>-0.021424</td>\n",
              "      <td>-0.050009</td>\n",
              "      <td>-0.019688</td>\n",
              "      <td>-0.020902</td>\n",
              "      <td>-0.021074</td>\n",
              "      <td>-0.022499</td>\n",
              "      <td>-0.136154</td>\n",
              "      <td>1.000000</td>\n",
              "    </tr>\n",
              "  </tbody>\n",
              "</table>\n",
              "</div>\n",
              "      <button class=\"colab-df-convert\" onclick=\"convertToInteractive('df-3069a671-2cb7-4cd8-bfb6-0d51cf96bd4e')\"\n",
              "              title=\"Convert this dataframe to an interactive table.\"\n",
              "              style=\"display:none;\">\n",
              "        \n",
              "  <svg xmlns=\"http://www.w3.org/2000/svg\" height=\"24px\"viewBox=\"0 0 24 24\"\n",
              "       width=\"24px\">\n",
              "    <path d=\"M0 0h24v24H0V0z\" fill=\"none\"/>\n",
              "    <path d=\"M18.56 5.44l.94 2.06.94-2.06 2.06-.94-2.06-.94-.94-2.06-.94 2.06-2.06.94zm-11 1L8.5 8.5l.94-2.06 2.06-.94-2.06-.94L8.5 2.5l-.94 2.06-2.06.94zm10 10l.94 2.06.94-2.06 2.06-.94-2.06-.94-.94-2.06-.94 2.06-2.06.94z\"/><path d=\"M17.41 7.96l-1.37-1.37c-.4-.4-.92-.59-1.43-.59-.52 0-1.04.2-1.43.59L10.3 9.45l-7.72 7.72c-.78.78-.78 2.05 0 2.83L4 21.41c.39.39.9.59 1.41.59.51 0 1.02-.2 1.41-.59l7.78-7.78 2.81-2.81c.8-.78.8-2.07 0-2.86zM5.41 20L4 18.59l7.72-7.72 1.47 1.35L5.41 20z\"/>\n",
              "  </svg>\n",
              "      </button>\n",
              "      \n",
              "  <style>\n",
              "    .colab-df-container {\n",
              "      display:flex;\n",
              "      flex-wrap:wrap;\n",
              "      gap: 12px;\n",
              "    }\n",
              "\n",
              "    .colab-df-convert {\n",
              "      background-color: #E8F0FE;\n",
              "      border: none;\n",
              "      border-radius: 50%;\n",
              "      cursor: pointer;\n",
              "      display: none;\n",
              "      fill: #1967D2;\n",
              "      height: 32px;\n",
              "      padding: 0 0 0 0;\n",
              "      width: 32px;\n",
              "    }\n",
              "\n",
              "    .colab-df-convert:hover {\n",
              "      background-color: #E2EBFA;\n",
              "      box-shadow: 0px 1px 2px rgba(60, 64, 67, 0.3), 0px 1px 3px 1px rgba(60, 64, 67, 0.15);\n",
              "      fill: #174EA6;\n",
              "    }\n",
              "\n",
              "    [theme=dark] .colab-df-convert {\n",
              "      background-color: #3B4455;\n",
              "      fill: #D2E3FC;\n",
              "    }\n",
              "\n",
              "    [theme=dark] .colab-df-convert:hover {\n",
              "      background-color: #434B5C;\n",
              "      box-shadow: 0px 1px 3px 1px rgba(0, 0, 0, 0.15);\n",
              "      filter: drop-shadow(0px 1px 2px rgba(0, 0, 0, 0.3));\n",
              "      fill: #FFFFFF;\n",
              "    }\n",
              "  </style>\n",
              "\n",
              "      <script>\n",
              "        const buttonEl =\n",
              "          document.querySelector('#df-3069a671-2cb7-4cd8-bfb6-0d51cf96bd4e button.colab-df-convert');\n",
              "        buttonEl.style.display =\n",
              "          google.colab.kernel.accessAllowed ? 'block' : 'none';\n",
              "\n",
              "        async function convertToInteractive(key) {\n",
              "          const element = document.querySelector('#df-3069a671-2cb7-4cd8-bfb6-0d51cf96bd4e');\n",
              "          const dataTable =\n",
              "            await google.colab.kernel.invokeFunction('convertToInteractive',\n",
              "                                                     [key], {});\n",
              "          if (!dataTable) return;\n",
              "\n",
              "          const docLinkHtml = 'Like what you see? Visit the ' +\n",
              "            '<a target=\"_blank\" href=https://colab.research.google.com/notebooks/data_table.ipynb>data table notebook</a>'\n",
              "            + ' to learn more about interactive tables.';\n",
              "          element.innerHTML = '';\n",
              "          dataTable['output_type'] = 'display_data';\n",
              "          await google.colab.output.renderOutput(dataTable, element);\n",
              "          const docLink = document.createElement('div');\n",
              "          docLink.innerHTML = docLinkHtml;\n",
              "          element.appendChild(docLink);\n",
              "        }\n",
              "      </script>\n",
              "    </div>\n",
              "  </div>\n",
              "  "
            ]
          },
          "metadata": {},
          "execution_count": 24
        }
      ]
    },
    {
      "cell_type": "markdown",
      "metadata": {
        "id": "vTbdjSrhVIiT"
      },
      "source": [
        "## 7. Implementing the Solution"
      ]
    },
    {
      "cell_type": "code",
      "metadata": {
        "id": "PJLZaRzJXJ3w",
        "colab": {
          "base_uri": "https://localhost:8080/",
          "height": 360
        },
        "outputId": "70eef39a-8d79-478b-c516-c06ec0ff935f"
      },
      "source": [
        "# Implementing the Solution\n",
        "import seaborn as sb\n",
        "# \n",
        "sb.heatmap(independent_only.corr());"
      ],
      "execution_count": 25,
      "outputs": [
        {
          "output_type": "display_data",
          "data": {
            "text/plain": [
              "<Figure size 432x288 with 2 Axes>"
            ],
            "image/png": "[encoded data removed]"
          },
          "metadata": {
            "needs_background": "light"
          }
        }
      ]
    },
    {
      "cell_type": "code",
      "source": [
        "import matplotlib.pyplot as plt\n",
        "\n",
        "data.plot(x='away_score', y='total_points', style='o')\n",
        "plt.title('away_score VS total_points')\n",
        "plt.xlabel('away_score')\n",
        "plt.ylabel('total_points')\n",
        "plt.show()"
      ],
      "metadata": {
        "colab": {
          "base_uri": "https://localhost:8080/",
          "height": 295
        },
        "id": "49Q8_irH8DpW",
        "outputId": "3104b1fa-e4d6-4d38-a0ff-05644306635b"
      },
      "execution_count": 26,
      "outputs": [
        {
          "output_type": "display_data",
          "data": {
            "text/plain": [
              "<Figure size 432x288 with 1 Axes>"
            ],
            "image/png": "[encoded data removed]"
          },
          "metadata": {
            "needs_background": "light"
          }
        }
      ]
    },
    {
      "cell_type": "code",
      "source": [
        "from sklearn.model_selection import train_test_split\n",
        "\n",
        "X = data['away_score'].values.reshape(-1, 1)\n",
        "y = data['total_points'].values#.reshape(-1, 1)\n",
        "\n",
        "# Use 20% of the data as test\n",
        "# The rest will be our training set\n",
        "FT_train, FT_test, admit_train, admit_test = train_test_split(X, y, test_size=0.2, random_state=0)"
      ],
      "metadata": {
        "id": "tgRTWgLo8DcM"
      },
      "execution_count": 27,
      "outputs": []
    },
    {
      "cell_type": "code",
      "source": [
        "from sklearn.linear_model import LinearRegression\n",
        "\n",
        "regressor = LinearRegression()\n",
        "\n",
        "regressor.fit(FT_train, admit_train)\n",
        "\n",
        "#The fit method will look for our optimal line. More info on this method and others\n",
        "# at the official documentation https://scikit-learn.org/stable/modules/generated/sklearn.linear_model.LinearRegression.html#sklearn.linear_model.LinearRegression.fit\n",
        "\n",
        "#display the intercept / bias\n",
        "print(regressor.intercept_)\n",
        "\n",
        "#display the coefficient\n",
        "print(regressor.coef_)"
      ],
      "metadata": {
        "colab": {
          "base_uri": "https://localhost:8080/"
        },
        "id": "pVgcicOd8DOG",
        "outputId": "1932ce2d-3a1a-4914-bc00-6779cc8b0f90"
      },
      "execution_count": 28,
      "outputs": [
        {
          "output_type": "stream",
          "name": "stdout",
          "text": [
            "176.76384268070012\n",
            "[-5.07356516]\n"
          ]
        }
      ]
    },
    {
      "cell_type": "code",
      "source": [
        "admit_predict = regressor.predict(FT_test)\n",
        "\n",
        "comparison_frame = pd.DataFrame({'Actual': admit_test.flatten(), 'Predicted': admit_predict.flatten()})\n",
        "\n",
        "comparison_frame.describe()"
      ],
      "metadata": {
        "id": "MpwVa7Mn9hve",
        "colab": {
          "base_uri": "https://localhost:8080/",
          "height": 300
        },
        "outputId": "51b71482-3c01-4045-ab3a-0dcd3d2c3a49"
      },
      "execution_count": 29,
      "outputs": [
        {
          "output_type": "execute_result",
          "data": {
            "text/plain": [
              "             Actual     Predicted\n",
              "count  1.798997e+06  1.798997e+06\n",
              "mean   1.704750e+02  1.706547e+02\n",
              "std    3.303418e+02  7.133248e+00\n",
              "min    0.000000e+00  7.021897e+01\n",
              "25%    0.000000e+00  1.666167e+02\n",
              "50%    0.000000e+00  1.716903e+02\n",
              "75%    2.057800e+02  1.767638e+02\n",
              "max    1.775030e+03  1.767638e+02"
            ],
            "text/html": [
              "\n",
              "  <div id=\"df-18990160-f6b7-435e-9454-7be28fdbdb11\">\n",
              "    <div class=\"colab-df-container\">\n",
              "      <div>\n",
              "<style scoped>\n",
              "    .dataframe tbody tr th:only-of-type {\n",
              "        vertical-align: middle;\n",
              "    }\n",
              "\n",
              "    .dataframe tbody tr th {\n",
              "        vertical-align: top;\n",
              "    }\n",
              "\n",
              "    .dataframe thead th {\n",
              "        text-align: right;\n",
              "    }\n",
              "</style>\n",
              "<table border=\"1\" class=\"dataframe\">\n",
              "  <thead>\n",
              "    <tr style=\"text-align: right;\">\n",
              "      <th></th>\n",
              "      <th>Actual</th>\n",
              "      <th>Predicted</th>\n",
              "    </tr>\n",
              "  </thead>\n",
              "  <tbody>\n",
              "    <tr>\n",
              "      <th>count</th>\n",
              "      <td>1.798997e+06</td>\n",
              "      <td>1.798997e+06</td>\n",
              "    </tr>\n",
              "    <tr>\n",
              "      <th>mean</th>\n",
              "      <td>1.704750e+02</td>\n",
              "      <td>1.706547e+02</td>\n",
              "    </tr>\n",
              "    <tr>\n",
              "      <th>std</th>\n",
              "      <td>3.303418e+02</td>\n",
              "      <td>7.133248e+00</td>\n",
              "    </tr>\n",
              "    <tr>\n",
              "      <th>min</th>\n",
              "      <td>0.000000e+00</td>\n",
              "      <td>7.021897e+01</td>\n",
              "    </tr>\n",
              "    <tr>\n",
              "      <th>25%</th>\n",
              "      <td>0.000000e+00</td>\n",
              "      <td>1.666167e+02</td>\n",
              "    </tr>\n",
              "    <tr>\n",
              "      <th>50%</th>\n",
              "      <td>0.000000e+00</td>\n",
              "      <td>1.716903e+02</td>\n",
              "    </tr>\n",
              "    <tr>\n",
              "      <th>75%</th>\n",
              "      <td>2.057800e+02</td>\n",
              "      <td>1.767638e+02</td>\n",
              "    </tr>\n",
              "    <tr>\n",
              "      <th>max</th>\n",
              "      <td>1.775030e+03</td>\n",
              "      <td>1.767638e+02</td>\n",
              "    </tr>\n",
              "  </tbody>\n",
              "</table>\n",
              "</div>\n",
              "      <button class=\"colab-df-convert\" onclick=\"convertToInteractive('df-18990160-f6b7-435e-9454-7be28fdbdb11')\"\n",
              "              title=\"Convert this dataframe to an interactive table.\"\n",
              "              style=\"display:none;\">\n",
              "        \n",
              "  <svg xmlns=\"http://www.w3.org/2000/svg\" height=\"24px\"viewBox=\"0 0 24 24\"\n",
              "       width=\"24px\">\n",
              "    <path d=\"M0 0h24v24H0V0z\" fill=\"none\"/>\n",
              "    <path d=\"M18.56 5.44l.94 2.06.94-2.06 2.06-.94-2.06-.94-.94-2.06-.94 2.06-2.06.94zm-11 1L8.5 8.5l.94-2.06 2.06-.94-2.06-.94L8.5 2.5l-.94 2.06-2.06.94zm10 10l.94 2.06.94-2.06 2.06-.94-2.06-.94-.94-2.06-.94 2.06-2.06.94z\"/><path d=\"M17.41 7.96l-1.37-1.37c-.4-.4-.92-.59-1.43-.59-.52 0-1.04.2-1.43.59L10.3 9.45l-7.72 7.72c-.78.78-.78 2.05 0 2.83L4 21.41c.39.39.9.59 1.41.59.51 0 1.02-.2 1.41-.59l7.78-7.78 2.81-2.81c.8-.78.8-2.07 0-2.86zM5.41 20L4 18.59l7.72-7.72 1.47 1.35L5.41 20z\"/>\n",
              "  </svg>\n",
              "      </button>\n",
              "      \n",
              "  <style>\n",
              "    .colab-df-container {\n",
              "      display:flex;\n",
              "      flex-wrap:wrap;\n",
              "      gap: 12px;\n",
              "    }\n",
              "\n",
              "    .colab-df-convert {\n",
              "      background-color: #E8F0FE;\n",
              "      border: none;\n",
              "      border-radius: 50%;\n",
              "      cursor: pointer;\n",
              "      display: none;\n",
              "      fill: #1967D2;\n",
              "      height: 32px;\n",
              "      padding: 0 0 0 0;\n",
              "      width: 32px;\n",
              "    }\n",
              "\n",
              "    .colab-df-convert:hover {\n",
              "      background-color: #E2EBFA;\n",
              "      box-shadow: 0px 1px 2px rgba(60, 64, 67, 0.3), 0px 1px 3px 1px rgba(60, 64, 67, 0.15);\n",
              "      fill: #174EA6;\n",
              "    }\n",
              "\n",
              "    [theme=dark] .colab-df-convert {\n",
              "      background-color: #3B4455;\n",
              "      fill: #D2E3FC;\n",
              "    }\n",
              "\n",
              "    [theme=dark] .colab-df-convert:hover {\n",
              "      background-color: #434B5C;\n",
              "      box-shadow: 0px 1px 3px 1px rgba(0, 0, 0, 0.15);\n",
              "      filter: drop-shadow(0px 1px 2px rgba(0, 0, 0, 0.3));\n",
              "      fill: #FFFFFF;\n",
              "    }\n",
              "  </style>\n",
              "\n",
              "      <script>\n",
              "        const buttonEl =\n",
              "          document.querySelector('#df-18990160-f6b7-435e-9454-7be28fdbdb11 button.colab-df-convert');\n",
              "        buttonEl.style.display =\n",
              "          google.colab.kernel.accessAllowed ? 'block' : 'none';\n",
              "\n",
              "        async function convertToInteractive(key) {\n",
              "          const element = document.querySelector('#df-18990160-f6b7-435e-9454-7be28fdbdb11');\n",
              "          const dataTable =\n",
              "            await google.colab.kernel.invokeFunction('convertToInteractive',\n",
              "                                                     [key], {});\n",
              "          if (!dataTable) return;\n",
              "\n",
              "          const docLinkHtml = 'Like what you see? Visit the ' +\n",
              "            '<a target=\"_blank\" href=https://colab.research.google.com/notebooks/data_table.ipynb>data table notebook</a>'\n",
              "            + ' to learn more about interactive tables.';\n",
              "          element.innerHTML = '';\n",
              "          dataTable['output_type'] = 'display_data';\n",
              "          await google.colab.output.renderOutput(dataTable, element);\n",
              "          const docLink = document.createElement('div');\n",
              "          docLink.innerHTML = docLinkHtml;\n",
              "          element.appendChild(docLink);\n",
              "        }\n",
              "      </script>\n",
              "    </div>\n",
              "  </div>\n",
              "  "
            ]
          },
          "metadata": {},
          "execution_count": 29
        }
      ]
    },
    {
      "cell_type": "code",
      "source": [
        "plt.scatter(FT_test, admit_test, color='black')\n",
        "plt.plot(FT_test, admit_predict, color='red', linewidth=2)\n",
        "plt.show()"
      ],
      "metadata": {
        "id": "nauaYwr79hoM",
        "colab": {
          "base_uri": "https://localhost:8080/",
          "height": 265
        },
        "outputId": "da4ef086-64df-45ef-9aa2-b3b4294017f9"
      },
      "execution_count": 30,
      "outputs": [
        {
          "output_type": "display_data",
          "data": {
            "text/plain": [
              "<Figure size 432x288 with 1 Axes>"
            ],
            "image/png": "[encoded data removed]"
          },
          "metadata": {
            "needs_background": "light"
          }
        }
      ]
    },
    {
      "cell_type": "code",
      "source": [
        "from sklearn import metrics\n",
        "import numpy as np\n",
        "\n",
        "# Our first metric is MAE - Mean absolute error\n",
        "print('Mean Absolute Error:', metrics.mean_absolute_error(admit_test, admit_predict))\n",
        "\n",
        "# We can also use MSE - Mean squared error\n",
        "print('Mean Squared Error:', metrics.mean_squared_error(admit_test, admit_predict))  \n",
        "\n",
        "# Finally, the most popular metric: RMSE - Root mean squared error\n",
        "print('Root Mean Squared Error:', np.sqrt(metrics.mean_squared_error(admit_test, admit_predict)))"
      ],
      "metadata": {
        "id": "eTb1jYeP9hbF",
        "colab": {
          "base_uri": "https://localhost:8080/"
        },
        "outputId": "1b5860aa-097b-4ce0-af06-67d7d7501219"
      },
      "execution_count": 31,
      "outputs": [
        {
          "output_type": "stream",
          "name": "stdout",
          "text": [
            "Mean Absolute Error: 244.77151683426874\n",
            "Mean Squared Error: 109078.46545398007\n",
            "Root Mean Squared Error: 330.27029150981787\n"
          ]
        }
      ]
    },
    {
      "cell_type": "markdown",
      "metadata": {
        "id": "lQ2G4ZPDVOXE"
      },
      "source": [
        "## 8. Challenging the solution"
      ]
    },
    {
      "cell_type": "markdown",
      "metadata": {
        "id": "jWVGKGuiYMWg"
      },
      "source": [
        "> The easy solution is nice because it is, well, easy, but you should never allow those results to hold the day. You should always be thinking of ways to challenge the results, especially if those results comport with your prior expectation.\n",
        "\n",
        "\n",
        "\n",
        "\n"
      ]
    },
    {
      "cell_type": "code",
      "metadata": {
        "id": "j3x3SXZ4XT_L"
      },
      "source": [
        "# Reviewing the Solution \n",
        "#"
      ],
      "execution_count": null,
      "outputs": []
    },
    {
      "cell_type": "code",
      "source": [
        "import matplotlib.pyplot as plt\n",
        "\n",
        "data.plot(x='Time on App', y='Yearly Amount Spent', style='o')\n",
        "plt.title('Time on App VS Yearly Amount Spent')\n",
        "plt.xlabel('Time on App')\n",
        "plt.ylabel('Yearly Amount Spent')\n",
        "plt.show()"
      ],
      "metadata": {
        "id": "s8ugLYtg-aJJ"
      },
      "execution_count": null,
      "outputs": []
    },
    {
      "cell_type": "code",
      "source": [
        "from sklearn.model_selection import train_test_split\n",
        "\n",
        "X = data['Time on App'].values.reshape(-1, 1)\n",
        "y = data['Yearly Amount Spent'].values#.reshape(-1, 1)\n",
        "\n",
        "# Use 20% of the data as test\n",
        "# The rest will be our training set\n",
        "LM_train, LM_test, admit_train, admit_test = train_test_split(X, y, test_size=0.2, random_state=0)"
      ],
      "metadata": {
        "id": "UbEbL3-F-aJU"
      },
      "execution_count": null,
      "outputs": []
    },
    {
      "cell_type": "code",
      "source": [
        "from sklearn.linear_model import LinearRegression\n",
        "\n",
        "regressor = LinearRegression()\n",
        "\n",
        "regressor.fit(LM_train, admit_train)\n",
        "\n",
        "#The fit method will look for our optimal line. More info on this method and others\n",
        "# at the official documentation https://scikit-learn.org/stable/modules/generated/sklearn.linear_model.LinearRegression.html#sklearn.linear_model.LinearRegression.fit\n",
        "\n",
        "#display the intercept / bias\n",
        "print(regressor.intercept_)\n",
        "\n",
        "#display the coefficient\n",
        "print(regressor.coef_)"
      ],
      "metadata": {
        "id": "aVmXDcnC-aJU"
      },
      "execution_count": null,
      "outputs": []
    },
    {
      "cell_type": "code",
      "source": [
        "admit_predict = regressor.predict(LM_test)\n",
        "\n",
        "comparison_frame = pd.DataFrame({'Actual': admit_test.flatten(), 'Predicted': admit_predict.flatten()})\n",
        "\n",
        "comparison_frame.describe()"
      ],
      "metadata": {
        "id": "JFhzBOGI-aJV"
      },
      "execution_count": null,
      "outputs": []
    },
    {
      "cell_type": "code",
      "source": [
        "plt.scatter(LM_test, admit_test, color='black')\n",
        "plt.plot(LM_test, admit_predict, color='red', linewidth=2)\n",
        "plt.show()"
      ],
      "metadata": {
        "id": "B55KMZN7-aJW"
      },
      "execution_count": null,
      "outputs": []
    },
    {
      "cell_type": "code",
      "source": [
        "from sklearn import metrics\n",
        "import numpy as np\n",
        "\n",
        "# Our first metric is MAE - Mean absolute error\n",
        "print('Mean Absolute Error:', metrics.mean_absolute_error(admit_test, admit_predict))\n",
        "\n",
        "# We can also use MSE - Mean squared error\n",
        "print('Mean Squared Error:', metrics.mean_squared_error(admit_test, admit_predict))  \n",
        "\n",
        "# Finally, the most popular metric: RMSE - Root mean squared error\n",
        "print('Root Mean Squared Error:', np.sqrt(metrics.mean_squared_error(admit_test, admit_predict)))"
      ],
      "metadata": {
        "id": "Nu3jOqH0-aJW"
      },
      "execution_count": null,
      "outputs": []
    },
    {
      "cell_type": "markdown",
      "metadata": {
        "id": "xrmHVMVsVS--"
      },
      "source": [
        "## 9. Follow up questions"
      ]
    },
    {
      "cell_type": "markdown",
      "metadata": {
        "id": "pth2qSWhuBIy"
      },
      "source": [
        "> At this point, we can refine our question or collect new data, all in an iterative process to get at the truth.\n",
        "\n"
      ]
    },
    {
      "cell_type": "markdown",
      "metadata": {
        "id": "HPQviDmNtta8"
      },
      "source": [
        "### a). Did we have the right data?\n",
        "*   Yes because our question was answered\n",
        "\n"
      ]
    },
    {
      "cell_type": "markdown",
      "metadata": {
        "id": "qjFHK1CKty7o"
      },
      "source": [
        "### b). Do we need other data to answer our question?\n",
        "*   No\n"
      ]
    },
    {
      "cell_type": "markdown",
      "metadata": {
        "id": "HSsicSdvt4Zs"
      },
      "source": [
        "### c). Did we have the right question?\n",
        "*   Yes. It was suitable for our data\n"
      ]
    }
  ]
}